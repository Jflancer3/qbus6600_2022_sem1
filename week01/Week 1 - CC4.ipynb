{
 "cells": [
  {
   "cell_type": "code",
   "execution_count": 5,
   "metadata": {},
   "outputs": [],
   "source": [
    "import pandas as pd"
   ]
  },
  {
   "cell_type": "code",
   "execution_count": 6,
   "metadata": {},
   "outputs": [],
   "source": [
    "df = pd.read_csv(\"homeless_entries.csv\")"
   ]
  },
  {
   "cell_type": "code",
   "execution_count": 7,
   "metadata": {},
   "outputs": [
    {
     "data": {
      "text/html": [
       "<div>\n",
       "<style scoped>\n",
       "    .dataframe tbody tr th:only-of-type {\n",
       "        vertical-align: middle;\n",
       "    }\n",
       "\n",
       "    .dataframe tbody tr th {\n",
       "        vertical-align: top;\n",
       "    }\n",
       "\n",
       "    .dataframe thead th {\n",
       "        text-align: right;\n",
       "    }\n",
       "</style>\n",
       "<table border=\"1\" class=\"dataframe\">\n",
       "  <thead>\n",
       "    <tr style=\"text-align: right;\">\n",
       "      <th></th>\n",
       "      <th>Unnamed: 0</th>\n",
       "      <th>Homeless operational group</th>\n",
       "      <th>Total personal income (weekly)</th>\n",
       "      <th>Registered marital status</th>\n",
       "      <th>Level of Highest Educational Attainment</th>\n",
       "    </tr>\n",
       "  </thead>\n",
       "  <tbody>\n",
       "    <tr>\n",
       "      <th>0</th>\n",
       "      <td>0</td>\n",
       "      <td>Persons living in improvised dwellings, tents,...</td>\n",
       "      <td>NaN</td>\n",
       "      <td>Never married</td>\n",
       "      <td>NaN</td>\n",
       "    </tr>\n",
       "    <tr>\n",
       "      <th>1</th>\n",
       "      <td>1</td>\n",
       "      <td>Persons living in improvised dwellings, tents,...</td>\n",
       "      <td>NaN</td>\n",
       "      <td>Never married</td>\n",
       "      <td>NaN</td>\n",
       "    </tr>\n",
       "    <tr>\n",
       "      <th>2</th>\n",
       "      <td>2</td>\n",
       "      <td>Persons living in improvised dwellings, tents,...</td>\n",
       "      <td>NaN</td>\n",
       "      <td>Never married</td>\n",
       "      <td>Bachelor Degree or above</td>\n",
       "    </tr>\n",
       "    <tr>\n",
       "      <th>3</th>\n",
       "      <td>3</td>\n",
       "      <td>Persons living in improvised dwellings, tents,...</td>\n",
       "      <td>NaN</td>\n",
       "      <td>Married</td>\n",
       "      <td>NaN</td>\n",
       "    </tr>\n",
       "    <tr>\n",
       "      <th>4</th>\n",
       "      <td>4</td>\n",
       "      <td>Persons living in improvised dwellings, tents,...</td>\n",
       "      <td>NaN</td>\n",
       "      <td>Never married</td>\n",
       "      <td>Below Year 10</td>\n",
       "    </tr>\n",
       "  </tbody>\n",
       "</table>\n",
       "</div>"
      ],
      "text/plain": [
       "   Unnamed: 0                         Homeless operational group  \\\n",
       "0           0  Persons living in improvised dwellings, tents,...   \n",
       "1           1  Persons living in improvised dwellings, tents,...   \n",
       "2           2  Persons living in improvised dwellings, tents,...   \n",
       "3           3  Persons living in improvised dwellings, tents,...   \n",
       "4           4  Persons living in improvised dwellings, tents,...   \n",
       "\n",
       "  Total personal income (weekly) Registered marital status  \\\n",
       "0                            NaN             Never married   \n",
       "1                            NaN             Never married   \n",
       "2                            NaN             Never married   \n",
       "3                            NaN                   Married   \n",
       "4                            NaN             Never married   \n",
       "\n",
       "  Level of Highest Educational Attainment  \n",
       "0                                     NaN  \n",
       "1                                     NaN  \n",
       "2                Bachelor Degree or above  \n",
       "3                                     NaN  \n",
       "4                           Below Year 10  "
      ]
     },
     "execution_count": 7,
     "metadata": {},
     "output_type": "execute_result"
    }
   ],
   "source": [
    "df.head()"
   ]
  },
  {
   "cell_type": "code",
   "execution_count": 11,
   "metadata": {},
   "outputs": [
    {
     "data": {
      "text/plain": [
       "0.21812823920950408"
      ]
     },
     "execution_count": 11,
     "metadata": {},
     "output_type": "execute_result"
    }
   ],
   "source": [
    "total_married = (df[\"Registered marital status\"] == \"Married\").sum()\n",
    "total_married / len(df)"
   ]
  },
  {
   "cell_type": "code",
   "execution_count": 15,
   "metadata": {},
   "outputs": [
    {
     "data": {
      "text/plain": [
       "21.812823920950407"
      ]
     },
     "execution_count": 15,
     "metadata": {},
     "output_type": "execute_result"
    }
   ],
   "source": [
    "proportion_married = (df[\"Registered marital status\"] == \"Married\").mean() * 100\n",
    "proportion_married"
   ]
  },
  {
   "cell_type": "code",
   "execution_count": 17,
   "metadata": {},
   "outputs": [
    {
     "name": "stdout",
     "output_type": "stream",
     "text": [
      "Proportion married 21.8\n"
     ]
    }
   ],
   "source": [
    "print(\"Proportion married\", round(proportion_married, 1))"
   ]
  },
  {
   "cell_type": "code",
   "execution_count": 19,
   "metadata": {},
   "outputs": [
    {
     "name": "stdout",
     "output_type": "stream",
     "text": [
      "Proportion married 21.8%\n"
     ]
    }
   ],
   "source": [
    "print(f\"Proportion married {round(proportion_married, 1)}%\")"
   ]
  },
  {
   "cell_type": "code",
   "execution_count": 20,
   "metadata": {},
   "outputs": [
    {
     "data": {
      "text/plain": [
       "'Total Married: 21170'"
      ]
     },
     "execution_count": 20,
     "metadata": {},
     "output_type": "execute_result"
    }
   ],
   "source": [
    "f\"Total Married: {total_married}\""
   ]
  },
  {
   "cell_type": "code",
   "execution_count": null,
   "metadata": {},
   "outputs": [],
   "source": []
  },
  {
   "cell_type": "code",
   "execution_count": 21,
   "metadata": {},
   "outputs": [
    {
     "data": {
      "text/html": [
       "<div>\n",
       "<style scoped>\n",
       "    .dataframe tbody tr th:only-of-type {\n",
       "        vertical-align: middle;\n",
       "    }\n",
       "\n",
       "    .dataframe tbody tr th {\n",
       "        vertical-align: top;\n",
       "    }\n",
       "\n",
       "    .dataframe thead th {\n",
       "        text-align: right;\n",
       "    }\n",
       "</style>\n",
       "<table border=\"1\" class=\"dataframe\">\n",
       "  <thead>\n",
       "    <tr style=\"text-align: right;\">\n",
       "      <th></th>\n",
       "      <th>Unnamed: 0</th>\n",
       "      <th>Homeless operational group</th>\n",
       "      <th>Total personal income (weekly)</th>\n",
       "      <th>Registered marital status</th>\n",
       "      <th>Level of Highest Educational Attainment</th>\n",
       "    </tr>\n",
       "  </thead>\n",
       "  <tbody>\n",
       "    <tr>\n",
       "      <th>0</th>\n",
       "      <td>0</td>\n",
       "      <td>Persons living in improvised dwellings, tents,...</td>\n",
       "      <td>NaN</td>\n",
       "      <td>Never married</td>\n",
       "      <td>NaN</td>\n",
       "    </tr>\n",
       "    <tr>\n",
       "      <th>1</th>\n",
       "      <td>1</td>\n",
       "      <td>Persons living in improvised dwellings, tents,...</td>\n",
       "      <td>NaN</td>\n",
       "      <td>Never married</td>\n",
       "      <td>NaN</td>\n",
       "    </tr>\n",
       "    <tr>\n",
       "      <th>2</th>\n",
       "      <td>2</td>\n",
       "      <td>Persons living in improvised dwellings, tents,...</td>\n",
       "      <td>NaN</td>\n",
       "      <td>Never married</td>\n",
       "      <td>Bachelor Degree or above</td>\n",
       "    </tr>\n",
       "    <tr>\n",
       "      <th>3</th>\n",
       "      <td>3</td>\n",
       "      <td>Persons living in improvised dwellings, tents,...</td>\n",
       "      <td>NaN</td>\n",
       "      <td>Married</td>\n",
       "      <td>NaN</td>\n",
       "    </tr>\n",
       "    <tr>\n",
       "      <th>4</th>\n",
       "      <td>4</td>\n",
       "      <td>Persons living in improvised dwellings, tents,...</td>\n",
       "      <td>NaN</td>\n",
       "      <td>Never married</td>\n",
       "      <td>Below Year 10</td>\n",
       "    </tr>\n",
       "  </tbody>\n",
       "</table>\n",
       "</div>"
      ],
      "text/plain": [
       "   Unnamed: 0                         Homeless operational group  \\\n",
       "0           0  Persons living in improvised dwellings, tents,...   \n",
       "1           1  Persons living in improvised dwellings, tents,...   \n",
       "2           2  Persons living in improvised dwellings, tents,...   \n",
       "3           3  Persons living in improvised dwellings, tents,...   \n",
       "4           4  Persons living in improvised dwellings, tents,...   \n",
       "\n",
       "  Total personal income (weekly) Registered marital status  \\\n",
       "0                            NaN             Never married   \n",
       "1                            NaN             Never married   \n",
       "2                            NaN             Never married   \n",
       "3                            NaN                   Married   \n",
       "4                            NaN             Never married   \n",
       "\n",
       "  Level of Highest Educational Attainment  \n",
       "0                                     NaN  \n",
       "1                                     NaN  \n",
       "2                Bachelor Degree or above  \n",
       "3                                     NaN  \n",
       "4                           Below Year 10  "
      ]
     },
     "execution_count": 21,
     "metadata": {},
     "output_type": "execute_result"
    }
   ],
   "source": [
    "df.head()"
   ]
  },
  {
   "cell_type": "code",
   "execution_count": 22,
   "metadata": {},
   "outputs": [
    {
     "data": {
      "text/plain": [
       "0                  NaN\n",
       "1                  NaN\n",
       "2                  NaN\n",
       "3                  NaN\n",
       "4                  NaN\n",
       "             ...      \n",
       "97048    $800 and over\n",
       "97049       Under $400\n",
       "97050        $650–$799\n",
       "97051    $800 and over\n",
       "97052              NaN\n",
       "Name: Total personal income (weekly), Length: 97053, dtype: object"
      ]
     },
     "execution_count": 22,
     "metadata": {},
     "output_type": "execute_result"
    }
   ],
   "source": [
    "df[\"Total personal income (weekly)\"]"
   ]
  },
  {
   "cell_type": "code",
   "execution_count": 26,
   "metadata": {},
   "outputs": [
    {
     "data": {
      "text/plain": [
       "0.5215603845321628"
      ]
     },
     "execution_count": 26,
     "metadata": {},
     "output_type": "execute_result"
    }
   ],
   "source": [
    "df[\"Total personal income (weekly)\"].isna().mean()"
   ]
  },
  {
   "cell_type": "code",
   "execution_count": 23,
   "metadata": {},
   "outputs": [
    {
     "data": {
      "text/plain": [
       "array([nan, '$400–$649', 'Under $400', '$800 and over', '$650–$799'],\n",
       "      dtype=object)"
      ]
     },
     "execution_count": 23,
     "metadata": {},
     "output_type": "execute_result"
    }
   ],
   "source": [
    "df[\"Total personal income (weekly)\"].unique()"
   ]
  },
  {
   "cell_type": "code",
   "execution_count": 28,
   "metadata": {},
   "outputs": [
    {
     "data": {
      "text/plain": [
       "0.11350499211770888"
      ]
     },
     "execution_count": 28,
     "metadata": {},
     "output_type": "execute_result"
    }
   ],
   "source": [
    "(df[\"Total personal income (weekly)\"] == \"Under $400\").mean()"
   ]
  },
  {
   "cell_type": "code",
   "execution_count": 29,
   "metadata": {},
   "outputs": [
    {
     "data": {
      "text/plain": [
       "$400–$649        17105\n",
       "$800 and over    12602\n",
       "Under $400       11016\n",
       "$650–$799         5711\n",
       "Name: Total personal income (weekly), dtype: int64"
      ]
     },
     "execution_count": 29,
     "metadata": {},
     "output_type": "execute_result"
    }
   ],
   "source": [
    "df[\"Total personal income (weekly)\"].value_counts()"
   ]
  },
  {
   "cell_type": "code",
   "execution_count": 30,
   "metadata": {},
   "outputs": [
    {
     "data": {
      "text/plain": [
       "<matplotlib.axes._subplots.AxesSubplot at 0x7f8f718cbd50>"
      ]
     },
     "execution_count": 30,
     "metadata": {},
     "output_type": "execute_result"
    },
    {
     "data": {
      "image/png": "[encoded data removed]",
      "text/plain": [
       "<Figure size 432x288 with 1 Axes>"
      ]
     },
     "metadata": {
      "needs_background": "light"
     },
     "output_type": "display_data"
    }
   ],
   "source": [
    "df[\"Total personal income (weekly)\"].value_counts().plot.bar()"
   ]
  },
  {
   "cell_type": "code",
   "execution_count": 33,
   "metadata": {},
   "outputs": [],
   "source": [
    "cleaned_df = df[\"Total personal income (weekly)\"].fillna(\"Under $400\")"
   ]
  },
  {
   "cell_type": "code",
   "execution_count": 35,
   "metadata": {},
   "outputs": [
    {
     "data": {
      "text/plain": [
       "Under $400       61635\n",
       "$400–$649        17105\n",
       "$800 and over    12602\n",
       "$650–$799         5711\n",
       "Name: Total personal income (weekly), dtype: int64"
      ]
     },
     "execution_count": 35,
     "metadata": {},
     "output_type": "execute_result"
    }
   ],
   "source": [
    "cleaned_df.value_counts()"
   ]
  },
  {
   "cell_type": "code",
   "execution_count": 36,
   "metadata": {},
   "outputs": [
    {
     "data": {
      "text/plain": [
       "<matplotlib.axes._subplots.AxesSubplot at 0x7f8f71a5a250>"
      ]
     },
     "execution_count": 36,
     "metadata": {},
     "output_type": "execute_result"
    },
    {
     "data": {
      "image/png": "[encoded data removed]",
      "text/plain": [
       "<Figure size 432x288 with 1 Axes>"
      ]
     },
     "metadata": {
      "needs_background": "light"
     },
     "output_type": "display_data"
    }
   ],
   "source": [
    "cleaned_df.value_counts().plot.bar()"
   ]
  },
  {
   "cell_type": "code",
   "execution_count": 39,
   "metadata": {},
   "outputs": [
    {
     "data": {
      "text/plain": [
       "0.6350653766498717"
      ]
     },
     "execution_count": 39,
     "metadata": {},
     "output_type": "execute_result"
    }
   ],
   "source": [
    "(cleaned_df == \"Under $400\").mean()"
   ]
  },
  {
   "cell_type": "code",
   "execution_count": null,
   "metadata": {},
   "outputs": [],
   "source": []
  },
  {
   "cell_type": "code",
   "execution_count": null,
   "metadata": {},
   "outputs": [],
   "source": []
  },
  {
   "cell_type": "code",
   "execution_count": 72,
   "metadata": {},
   "outputs": [],
   "source": [
    "import numpy as np\n",
    "\n",
    "data = np.load('Charity_data.npz', allow_pickle=True)['data']"
   ]
  },
  {
   "cell_type": "code",
   "execution_count": 73,
   "metadata": {},
   "outputs": [],
   "source": [
    "charity = pd.DataFrame(data)"
   ]
  },
  {
   "cell_type": "code",
   "execution_count": 74,
   "metadata": {},
   "outputs": [
    {
     "data": {
      "text/html": [
       "<div>\n",
       "<style scoped>\n",
       "    .dataframe tbody tr th:only-of-type {\n",
       "        vertical-align: middle;\n",
       "    }\n",
       "\n",
       "    .dataframe tbody tr th {\n",
       "        vertical-align: top;\n",
       "    }\n",
       "\n",
       "    .dataframe thead th {\n",
       "        text-align: right;\n",
       "    }\n",
       "</style>\n",
       "<table border=\"1\" class=\"dataframe\">\n",
       "  <thead>\n",
       "    <tr style=\"text-align: right;\">\n",
       "      <th></th>\n",
       "      <th>0</th>\n",
       "      <th>1</th>\n",
       "      <th>2</th>\n",
       "      <th>3</th>\n",
       "      <th>4</th>\n",
       "      <th>5</th>\n",
       "      <th>6</th>\n",
       "      <th>7</th>\n",
       "      <th>8</th>\n",
       "      <th>9</th>\n",
       "      <th>...</th>\n",
       "      <th>14</th>\n",
       "      <th>15</th>\n",
       "      <th>16</th>\n",
       "      <th>17</th>\n",
       "      <th>18</th>\n",
       "      <th>19</th>\n",
       "      <th>20</th>\n",
       "      <th>21</th>\n",
       "      <th>22</th>\n",
       "      <th>23</th>\n",
       "    </tr>\n",
       "  </thead>\n",
       "  <tbody>\n",
       "    <tr>\n",
       "      <th>0</th>\n",
       "      <td>Homeless</td>\n",
       "      <td>Homeless</td>\n",
       "      <td>Homeless</td>\n",
       "      <td>Homeless</td>\n",
       "      <td>Homeless</td>\n",
       "      <td>None</td>\n",
       "      <td>Homeless</td>\n",
       "      <td>Homeless</td>\n",
       "      <td>Homeless</td>\n",
       "      <td>Homeless</td>\n",
       "      <td>...</td>\n",
       "      <td>Not homeless</td>\n",
       "      <td>Not homeless</td>\n",
       "      <td>Homeless</td>\n",
       "      <td>Not homeless</td>\n",
       "      <td>Not homeless</td>\n",
       "      <td>Not homeless</td>\n",
       "      <td>Not homeless</td>\n",
       "      <td>Not homeless</td>\n",
       "      <td>Not homeless</td>\n",
       "      <td>Not homeless</td>\n",
       "    </tr>\n",
       "    <tr>\n",
       "      <th>1</th>\n",
       "      <td>None</td>\n",
       "      <td>None</td>\n",
       "      <td>Homeless</td>\n",
       "      <td>Homeless</td>\n",
       "      <td>Homeless</td>\n",
       "      <td>Homeless</td>\n",
       "      <td>None</td>\n",
       "      <td>Homeless</td>\n",
       "      <td>Not homeless</td>\n",
       "      <td>Not homeless</td>\n",
       "      <td>...</td>\n",
       "      <td>None</td>\n",
       "      <td>None</td>\n",
       "      <td>None</td>\n",
       "      <td>None</td>\n",
       "      <td>None</td>\n",
       "      <td>None</td>\n",
       "      <td>None</td>\n",
       "      <td>None</td>\n",
       "      <td>None</td>\n",
       "      <td>None</td>\n",
       "    </tr>\n",
       "    <tr>\n",
       "      <th>2</th>\n",
       "      <td>None</td>\n",
       "      <td>Homeless</td>\n",
       "      <td>Homeless</td>\n",
       "      <td>Homeless</td>\n",
       "      <td>Homeless</td>\n",
       "      <td>Homeless</td>\n",
       "      <td>Homeless</td>\n",
       "      <td>Not homeless</td>\n",
       "      <td>None</td>\n",
       "      <td>None</td>\n",
       "      <td>...</td>\n",
       "      <td>None</td>\n",
       "      <td>None</td>\n",
       "      <td>None</td>\n",
       "      <td>None</td>\n",
       "      <td>None</td>\n",
       "      <td>None</td>\n",
       "      <td>None</td>\n",
       "      <td>None</td>\n",
       "      <td>None</td>\n",
       "      <td>None</td>\n",
       "    </tr>\n",
       "    <tr>\n",
       "      <th>3</th>\n",
       "      <td>None</td>\n",
       "      <td>None</td>\n",
       "      <td>Homeless</td>\n",
       "      <td>Homeless</td>\n",
       "      <td>Not homeless</td>\n",
       "      <td>Not homeless</td>\n",
       "      <td>Not homeless</td>\n",
       "      <td>None</td>\n",
       "      <td>Homeless</td>\n",
       "      <td>Homeless</td>\n",
       "      <td>...</td>\n",
       "      <td>Homeless</td>\n",
       "      <td>Not homeless</td>\n",
       "      <td>Not homeless</td>\n",
       "      <td>Homeless</td>\n",
       "      <td>Homeless</td>\n",
       "      <td>Homeless</td>\n",
       "      <td>Not homeless</td>\n",
       "      <td>None</td>\n",
       "      <td>None</td>\n",
       "      <td>None</td>\n",
       "    </tr>\n",
       "    <tr>\n",
       "      <th>4</th>\n",
       "      <td>Homeless</td>\n",
       "      <td>Homeless</td>\n",
       "      <td>Homeless</td>\n",
       "      <td>None</td>\n",
       "      <td>Homeless</td>\n",
       "      <td>Homeless</td>\n",
       "      <td>Homeless</td>\n",
       "      <td>Homeless</td>\n",
       "      <td>Homeless</td>\n",
       "      <td>Homeless</td>\n",
       "      <td>...</td>\n",
       "      <td>Not homeless</td>\n",
       "      <td>Not homeless</td>\n",
       "      <td>Not homeless</td>\n",
       "      <td>None</td>\n",
       "      <td>None</td>\n",
       "      <td>None</td>\n",
       "      <td>None</td>\n",
       "      <td>None</td>\n",
       "      <td>None</td>\n",
       "      <td>None</td>\n",
       "    </tr>\n",
       "  </tbody>\n",
       "</table>\n",
       "<p>5 rows × 24 columns</p>\n",
       "</div>"
      ],
      "text/plain": [
       "         0         1         2         3             4             5   \\\n",
       "0  Homeless  Homeless  Homeless  Homeless      Homeless          None   \n",
       "1      None      None  Homeless  Homeless      Homeless      Homeless   \n",
       "2      None  Homeless  Homeless  Homeless      Homeless      Homeless   \n",
       "3      None      None  Homeless  Homeless  Not homeless  Not homeless   \n",
       "4  Homeless  Homeless  Homeless      None      Homeless      Homeless   \n",
       "\n",
       "             6             7             8             9   ...            14  \\\n",
       "0      Homeless      Homeless      Homeless      Homeless  ...  Not homeless   \n",
       "1          None      Homeless  Not homeless  Not homeless  ...          None   \n",
       "2      Homeless  Not homeless          None          None  ...          None   \n",
       "3  Not homeless          None      Homeless      Homeless  ...      Homeless   \n",
       "4      Homeless      Homeless      Homeless      Homeless  ...  Not homeless   \n",
       "\n",
       "             15            16            17            18            19  \\\n",
       "0  Not homeless      Homeless  Not homeless  Not homeless  Not homeless   \n",
       "1          None          None          None          None          None   \n",
       "2          None          None          None          None          None   \n",
       "3  Not homeless  Not homeless      Homeless      Homeless      Homeless   \n",
       "4  Not homeless  Not homeless          None          None          None   \n",
       "\n",
       "             20            21            22            23  \n",
       "0  Not homeless  Not homeless  Not homeless  Not homeless  \n",
       "1          None          None          None          None  \n",
       "2          None          None          None          None  \n",
       "3  Not homeless          None          None          None  \n",
       "4          None          None          None          None  \n",
       "\n",
       "[5 rows x 24 columns]"
      ]
     },
     "execution_count": 74,
     "metadata": {},
     "output_type": "execute_result"
    }
   ],
   "source": [
    "charity.head()"
   ]
  },
  {
   "cell_type": "code",
   "execution_count": 75,
   "metadata": {},
   "outputs": [],
   "source": [
    "rows = len(charity)\n",
    "columns = len(charity.columns)"
   ]
  },
  {
   "cell_type": "code",
   "execution_count": 76,
   "metadata": {},
   "outputs": [],
   "source": [
    "for i in range(rows):\n",
    "    if charity.iloc[i, 0] is None:\n",
    "        charity.iloc[i, 0] = \"Homeless\""
   ]
  },
  {
   "cell_type": "code",
   "execution_count": 77,
   "metadata": {},
   "outputs": [
    {
     "data": {
      "text/html": [
       "<div>\n",
       "<style scoped>\n",
       "    .dataframe tbody tr th:only-of-type {\n",
       "        vertical-align: middle;\n",
       "    }\n",
       "\n",
       "    .dataframe tbody tr th {\n",
       "        vertical-align: top;\n",
       "    }\n",
       "\n",
       "    .dataframe thead th {\n",
       "        text-align: right;\n",
       "    }\n",
       "</style>\n",
       "<table border=\"1\" class=\"dataframe\">\n",
       "  <thead>\n",
       "    <tr style=\"text-align: right;\">\n",
       "      <th></th>\n",
       "      <th>0</th>\n",
       "      <th>1</th>\n",
       "      <th>2</th>\n",
       "      <th>3</th>\n",
       "      <th>4</th>\n",
       "      <th>5</th>\n",
       "      <th>6</th>\n",
       "      <th>7</th>\n",
       "      <th>8</th>\n",
       "      <th>9</th>\n",
       "      <th>...</th>\n",
       "      <th>14</th>\n",
       "      <th>15</th>\n",
       "      <th>16</th>\n",
       "      <th>17</th>\n",
       "      <th>18</th>\n",
       "      <th>19</th>\n",
       "      <th>20</th>\n",
       "      <th>21</th>\n",
       "      <th>22</th>\n",
       "      <th>23</th>\n",
       "    </tr>\n",
       "  </thead>\n",
       "  <tbody>\n",
       "    <tr>\n",
       "      <th>0</th>\n",
       "      <td>Homeless</td>\n",
       "      <td>Homeless</td>\n",
       "      <td>Homeless</td>\n",
       "      <td>Homeless</td>\n",
       "      <td>Homeless</td>\n",
       "      <td>None</td>\n",
       "      <td>Homeless</td>\n",
       "      <td>Homeless</td>\n",
       "      <td>Homeless</td>\n",
       "      <td>Homeless</td>\n",
       "      <td>...</td>\n",
       "      <td>Not homeless</td>\n",
       "      <td>Not homeless</td>\n",
       "      <td>Homeless</td>\n",
       "      <td>Not homeless</td>\n",
       "      <td>Not homeless</td>\n",
       "      <td>Not homeless</td>\n",
       "      <td>Not homeless</td>\n",
       "      <td>Not homeless</td>\n",
       "      <td>Not homeless</td>\n",
       "      <td>Not homeless</td>\n",
       "    </tr>\n",
       "    <tr>\n",
       "      <th>1</th>\n",
       "      <td>Homeless</td>\n",
       "      <td>None</td>\n",
       "      <td>Homeless</td>\n",
       "      <td>Homeless</td>\n",
       "      <td>Homeless</td>\n",
       "      <td>Homeless</td>\n",
       "      <td>None</td>\n",
       "      <td>Homeless</td>\n",
       "      <td>Not homeless</td>\n",
       "      <td>Not homeless</td>\n",
       "      <td>...</td>\n",
       "      <td>None</td>\n",
       "      <td>None</td>\n",
       "      <td>None</td>\n",
       "      <td>None</td>\n",
       "      <td>None</td>\n",
       "      <td>None</td>\n",
       "      <td>None</td>\n",
       "      <td>None</td>\n",
       "      <td>None</td>\n",
       "      <td>None</td>\n",
       "    </tr>\n",
       "    <tr>\n",
       "      <th>2</th>\n",
       "      <td>Homeless</td>\n",
       "      <td>Homeless</td>\n",
       "      <td>Homeless</td>\n",
       "      <td>Homeless</td>\n",
       "      <td>Homeless</td>\n",
       "      <td>Homeless</td>\n",
       "      <td>Homeless</td>\n",
       "      <td>Not homeless</td>\n",
       "      <td>None</td>\n",
       "      <td>None</td>\n",
       "      <td>...</td>\n",
       "      <td>None</td>\n",
       "      <td>None</td>\n",
       "      <td>None</td>\n",
       "      <td>None</td>\n",
       "      <td>None</td>\n",
       "      <td>None</td>\n",
       "      <td>None</td>\n",
       "      <td>None</td>\n",
       "      <td>None</td>\n",
       "      <td>None</td>\n",
       "    </tr>\n",
       "    <tr>\n",
       "      <th>3</th>\n",
       "      <td>Homeless</td>\n",
       "      <td>None</td>\n",
       "      <td>Homeless</td>\n",
       "      <td>Homeless</td>\n",
       "      <td>Not homeless</td>\n",
       "      <td>Not homeless</td>\n",
       "      <td>Not homeless</td>\n",
       "      <td>None</td>\n",
       "      <td>Homeless</td>\n",
       "      <td>Homeless</td>\n",
       "      <td>...</td>\n",
       "      <td>Homeless</td>\n",
       "      <td>Not homeless</td>\n",
       "      <td>Not homeless</td>\n",
       "      <td>Homeless</td>\n",
       "      <td>Homeless</td>\n",
       "      <td>Homeless</td>\n",
       "      <td>Not homeless</td>\n",
       "      <td>None</td>\n",
       "      <td>None</td>\n",
       "      <td>None</td>\n",
       "    </tr>\n",
       "    <tr>\n",
       "      <th>4</th>\n",
       "      <td>Homeless</td>\n",
       "      <td>Homeless</td>\n",
       "      <td>Homeless</td>\n",
       "      <td>None</td>\n",
       "      <td>Homeless</td>\n",
       "      <td>Homeless</td>\n",
       "      <td>Homeless</td>\n",
       "      <td>Homeless</td>\n",
       "      <td>Homeless</td>\n",
       "      <td>Homeless</td>\n",
       "      <td>...</td>\n",
       "      <td>Not homeless</td>\n",
       "      <td>Not homeless</td>\n",
       "      <td>Not homeless</td>\n",
       "      <td>None</td>\n",
       "      <td>None</td>\n",
       "      <td>None</td>\n",
       "      <td>None</td>\n",
       "      <td>None</td>\n",
       "      <td>None</td>\n",
       "      <td>None</td>\n",
       "    </tr>\n",
       "  </tbody>\n",
       "</table>\n",
       "<p>5 rows × 24 columns</p>\n",
       "</div>"
      ],
      "text/plain": [
       "         0         1         2         3             4             5   \\\n",
       "0  Homeless  Homeless  Homeless  Homeless      Homeless          None   \n",
       "1  Homeless      None  Homeless  Homeless      Homeless      Homeless   \n",
       "2  Homeless  Homeless  Homeless  Homeless      Homeless      Homeless   \n",
       "3  Homeless      None  Homeless  Homeless  Not homeless  Not homeless   \n",
       "4  Homeless  Homeless  Homeless      None      Homeless      Homeless   \n",
       "\n",
       "             6             7             8             9   ...            14  \\\n",
       "0      Homeless      Homeless      Homeless      Homeless  ...  Not homeless   \n",
       "1          None      Homeless  Not homeless  Not homeless  ...          None   \n",
       "2      Homeless  Not homeless          None          None  ...          None   \n",
       "3  Not homeless          None      Homeless      Homeless  ...      Homeless   \n",
       "4      Homeless      Homeless      Homeless      Homeless  ...  Not homeless   \n",
       "\n",
       "             15            16            17            18            19  \\\n",
       "0  Not homeless      Homeless  Not homeless  Not homeless  Not homeless   \n",
       "1          None          None          None          None          None   \n",
       "2          None          None          None          None          None   \n",
       "3  Not homeless  Not homeless      Homeless      Homeless      Homeless   \n",
       "4  Not homeless  Not homeless          None          None          None   \n",
       "\n",
       "             20            21            22            23  \n",
       "0  Not homeless  Not homeless  Not homeless  Not homeless  \n",
       "1          None          None          None          None  \n",
       "2          None          None          None          None  \n",
       "3  Not homeless          None          None          None  \n",
       "4          None          None          None          None  \n",
       "\n",
       "[5 rows x 24 columns]"
      ]
     },
     "execution_count": 77,
     "metadata": {},
     "output_type": "execute_result"
    }
   ],
   "source": [
    "charity.head()"
   ]
  },
  {
   "cell_type": "code",
   "execution_count": 82,
   "metadata": {},
   "outputs": [],
   "source": [
    "cleaned_charity = charity.fillna(method=\"ffill\", axis=1)"
   ]
  },
  {
   "cell_type": "code",
   "execution_count": 112,
   "metadata": {
    "scrolled": true
   },
   "outputs": [],
   "source": [
    "row = cleaned_charity.iloc[11] # [4, 7, 3]"
   ]
  },
  {
   "cell_type": "code",
   "execution_count": 113,
   "metadata": {},
   "outputs": [
    {
     "data": {
      "text/plain": [
       "[10]"
      ]
     },
     "execution_count": 113,
     "metadata": {},
     "output_type": "execute_result"
    }
   ],
   "source": [
    "counter = 0\n",
    "duration_of_homelessness = []\n",
    "\n",
    "for element in row:\n",
    "    if element == \"Homeless\":\n",
    "        counter += 1\n",
    "    elif element == \"Not homeless\":\n",
    "        if counter > 0:\n",
    "            duration_of_homelessness.append(counter)\n",
    "        counter = 0\n",
    "        \n",
    "duration_of_homelessness"
   ]
  },
  {
   "cell_type": "code",
   "execution_count": 114,
   "metadata": {},
   "outputs": [],
   "source": [
    "def get_duration_of_homelessness(row):\n",
    "    counter = 0\n",
    "    duration_of_homelessness = []\n",
    "\n",
    "    for element in row:\n",
    "        if element == \"Homeless\":\n",
    "            counter += 1\n",
    "        elif element == \"Not homeless\":\n",
    "            if counter > 0:\n",
    "                duration_of_homelessness.append(counter)\n",
    "            counter = 0\n",
    "\n",
    "    return duration_of_homelessness"
   ]
  },
  {
   "cell_type": "code",
   "execution_count": 121,
   "metadata": {},
   "outputs": [],
   "source": [
    "duration_of_homelessness = []\n",
    "for i in range(rows):\n",
    "    duration_of_homelessness += get_duration_of_homelessness(cleaned_charity.iloc[i])"
   ]
  },
  {
   "cell_type": "code",
   "execution_count": 123,
   "metadata": {},
   "outputs": [
    {
     "data": {
      "text/plain": [
       "7.612538540596095"
      ]
     },
     "execution_count": 123,
     "metadata": {},
     "output_type": "execute_result"
    }
   ],
   "source": [
    "np.mean(duration_of_homelessness)"
   ]
  },
  {
   "cell_type": "code",
   "execution_count": null,
   "metadata": {},
   "outputs": [],
   "source": []
  },
  {
   "cell_type": "code",
   "execution_count": 124,
   "metadata": {},
   "outputs": [],
   "source": [
    "import numpy as np\n",
    "\n",
    "data = np.load('Charity_data.npz', allow_pickle=True)['data']"
   ]
  },
  {
   "cell_type": "code",
   "execution_count": 125,
   "metadata": {},
   "outputs": [],
   "source": [
    "charity = pd.DataFrame(data)"
   ]
  },
  {
   "cell_type": "code",
   "execution_count": 126,
   "metadata": {},
   "outputs": [
    {
     "data": {
      "text/html": [
       "<div>\n",
       "<style scoped>\n",
       "    .dataframe tbody tr th:only-of-type {\n",
       "        vertical-align: middle;\n",
       "    }\n",
       "\n",
       "    .dataframe tbody tr th {\n",
       "        vertical-align: top;\n",
       "    }\n",
       "\n",
       "    .dataframe thead th {\n",
       "        text-align: right;\n",
       "    }\n",
       "</style>\n",
       "<table border=\"1\" class=\"dataframe\">\n",
       "  <thead>\n",
       "    <tr style=\"text-align: right;\">\n",
       "      <th></th>\n",
       "      <th>0</th>\n",
       "      <th>1</th>\n",
       "      <th>2</th>\n",
       "      <th>3</th>\n",
       "      <th>4</th>\n",
       "      <th>5</th>\n",
       "      <th>6</th>\n",
       "      <th>7</th>\n",
       "      <th>8</th>\n",
       "      <th>9</th>\n",
       "      <th>...</th>\n",
       "      <th>14</th>\n",
       "      <th>15</th>\n",
       "      <th>16</th>\n",
       "      <th>17</th>\n",
       "      <th>18</th>\n",
       "      <th>19</th>\n",
       "      <th>20</th>\n",
       "      <th>21</th>\n",
       "      <th>22</th>\n",
       "      <th>23</th>\n",
       "    </tr>\n",
       "  </thead>\n",
       "  <tbody>\n",
       "    <tr>\n",
       "      <th>0</th>\n",
       "      <td>Homeless</td>\n",
       "      <td>Homeless</td>\n",
       "      <td>Homeless</td>\n",
       "      <td>Homeless</td>\n",
       "      <td>Homeless</td>\n",
       "      <td>None</td>\n",
       "      <td>Homeless</td>\n",
       "      <td>Homeless</td>\n",
       "      <td>Homeless</td>\n",
       "      <td>Homeless</td>\n",
       "      <td>...</td>\n",
       "      <td>Not homeless</td>\n",
       "      <td>Not homeless</td>\n",
       "      <td>Homeless</td>\n",
       "      <td>Not homeless</td>\n",
       "      <td>Not homeless</td>\n",
       "      <td>Not homeless</td>\n",
       "      <td>Not homeless</td>\n",
       "      <td>Not homeless</td>\n",
       "      <td>Not homeless</td>\n",
       "      <td>Not homeless</td>\n",
       "    </tr>\n",
       "    <tr>\n",
       "      <th>1</th>\n",
       "      <td>None</td>\n",
       "      <td>None</td>\n",
       "      <td>Homeless</td>\n",
       "      <td>Homeless</td>\n",
       "      <td>Homeless</td>\n",
       "      <td>Homeless</td>\n",
       "      <td>None</td>\n",
       "      <td>Homeless</td>\n",
       "      <td>Not homeless</td>\n",
       "      <td>Not homeless</td>\n",
       "      <td>...</td>\n",
       "      <td>None</td>\n",
       "      <td>None</td>\n",
       "      <td>None</td>\n",
       "      <td>None</td>\n",
       "      <td>None</td>\n",
       "      <td>None</td>\n",
       "      <td>None</td>\n",
       "      <td>None</td>\n",
       "      <td>None</td>\n",
       "      <td>None</td>\n",
       "    </tr>\n",
       "  </tbody>\n",
       "</table>\n",
       "<p>2 rows × 24 columns</p>\n",
       "</div>"
      ],
      "text/plain": [
       "         0         1         2         3         4         5         6   \\\n",
       "0  Homeless  Homeless  Homeless  Homeless  Homeless      None  Homeless   \n",
       "1      None      None  Homeless  Homeless  Homeless  Homeless      None   \n",
       "\n",
       "         7             8             9   ...            14            15  \\\n",
       "0  Homeless      Homeless      Homeless  ...  Not homeless  Not homeless   \n",
       "1  Homeless  Not homeless  Not homeless  ...          None          None   \n",
       "\n",
       "         16            17            18            19            20  \\\n",
       "0  Homeless  Not homeless  Not homeless  Not homeless  Not homeless   \n",
       "1      None          None          None          None          None   \n",
       "\n",
       "             21            22            23  \n",
       "0  Not homeless  Not homeless  Not homeless  \n",
       "1          None          None          None  \n",
       "\n",
       "[2 rows x 24 columns]"
      ]
     },
     "execution_count": 126,
     "metadata": {},
     "output_type": "execute_result"
    }
   ],
   "source": [
    "charity.head(2)"
   ]
  },
  {
   "cell_type": "code",
   "execution_count": 127,
   "metadata": {},
   "outputs": [
    {
     "data": {
      "text/plain": [
       "0             None\n",
       "1         Homeless\n",
       "2             None\n",
       "3             None\n",
       "4         Homeless\n",
       "5         Homeless\n",
       "6         Homeless\n",
       "7         Homeless\n",
       "8         Homeless\n",
       "9         Homeless\n",
       "10        Homeless\n",
       "11        Homeless\n",
       "12            None\n",
       "13    Not homeless\n",
       "14            None\n",
       "15            None\n",
       "16            None\n",
       "17            None\n",
       "18            None\n",
       "19            None\n",
       "20            None\n",
       "21            None\n",
       "22            None\n",
       "23            None\n",
       "Name: 6, dtype: object"
      ]
     },
     "execution_count": 127,
     "metadata": {},
     "output_type": "execute_result"
    }
   ],
   "source": [
    "charity.iloc[6]"
   ]
  },
  {
   "cell_type": "code",
   "execution_count": 128,
   "metadata": {},
   "outputs": [],
   "source": [
    "rows = len(charity)\n",
    "columns = len(charity.columns)"
   ]
  },
  {
   "cell_type": "code",
   "execution_count": 129,
   "metadata": {},
   "outputs": [],
   "source": [
    "for i in range(rows):\n",
    "    if charity.iloc[i, 0] is None:\n",
    "        charity.iloc[i, 0] = \"Homeless\""
   ]
  },
  {
   "cell_type": "code",
   "execution_count": 130,
   "metadata": {},
   "outputs": [],
   "source": [
    "for r in range(rows):\n",
    "    for c in range(1, columns):\n",
    "        current_position = charity.iloc[r, c]\n",
    "        if current_position is None:\n",
    "            if c == (columns - 1):\n",
    "                left_neighbour = charity.iloc[r, c - 1]\n",
    "                charity.iloc[r, c] = left_neighbour\n",
    "                \n",
    "            else:\n",
    "                left_neighbour = charity.iloc[r, c - 1]\n",
    "                right_neighbour = charity.iloc[r, c + 1]\n",
    "                \n",
    "                if (left_neighbour == \"Homeless\") and (right_neighbour == \"Homeless\"):\n",
    "                    charity.iloc[r, c] = \"Homeless\"\n",
    "                else:\n",
    "                    charity.iloc[r, c] = \"Not Homeless\""
   ]
  },
  {
   "cell_type": "code",
   "execution_count": null,
   "metadata": {},
   "outputs": [],
   "source": []
  },
  {
   "cell_type": "code",
   "execution_count": 131,
   "metadata": {},
   "outputs": [
    {
     "data": {
      "text/plain": [
       "7.330935251798561"
      ]
     },
     "execution_count": 131,
     "metadata": {},
     "output_type": "execute_result"
    }
   ],
   "source": [
    "duration_of_homelessness = []\n",
    "for i in range(rows):\n",
    "    duration_of_homelessness += get_duration_of_homelessness(charity.iloc[i])\n",
    "\n",
    "np.mean(duration_of_homelessness)"
   ]
  },
  {
   "cell_type": "code",
   "execution_count": null,
   "metadata": {},
   "outputs": [],
   "source": []
  }
 ],
 "metadata": {
  "kernelspec": {
   "display_name": "Python 3",
   "language": "python",
   "name": "python3"
  },
  "language_info": {
   "codemirror_mode": {
    "name": "ipython",
    "version": 3
   },
   "file_extension": ".py",
   "mimetype": "text/x-python",
   "name": "python",
   "nbconvert_exporter": "python",
   "pygments_lexer": "ipython3",
   "version": "3.7.6"
  }
 },
 "nbformat": 4,
 "nbformat_minor": 4
}
