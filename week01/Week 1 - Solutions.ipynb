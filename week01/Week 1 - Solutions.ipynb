{
 "cells": [
  {
   "cell_type": "markdown",
   "metadata": {},
   "source": [
    "# Marital Status"
   ]
  },
  {
   "cell_type": "code",
   "execution_count": null,
   "metadata": {},
   "outputs": [],
   "source": []
  },
  {
   "cell_type": "code",
   "execution_count": null,
   "metadata": {},
   "outputs": [],
   "source": []
  },
  {
   "cell_type": "markdown",
   "metadata": {},
   "source": [
    "# Income"
   ]
  },
  {
   "cell_type": "code",
   "execution_count": 1,
   "metadata": {},
   "outputs": [],
   "source": [
    "import pandas as pd\n",
    "import matplotlib.pyplot as plt\n",
    "import numpy as np"
   ]
  },
  {
   "cell_type": "code",
   "execution_count": 8,
   "metadata": {},
   "outputs": [
    {
     "data": {
      "text/html": [
       "<div>\n",
       "<style scoped>\n",
       "    .dataframe tbody tr th:only-of-type {\n",
       "        vertical-align: middle;\n",
       "    }\n",
       "\n",
       "    .dataframe tbody tr th {\n",
       "        vertical-align: top;\n",
       "    }\n",
       "\n",
       "    .dataframe thead th {\n",
       "        text-align: right;\n",
       "    }\n",
       "</style>\n",
       "<table border=\"1\" class=\"dataframe\">\n",
       "  <thead>\n",
       "    <tr style=\"text-align: right;\">\n",
       "      <th></th>\n",
       "      <th>Unnamed: 0</th>\n",
       "      <th>Homeless operational group</th>\n",
       "      <th>Total personal income (weekly)</th>\n",
       "      <th>Registered marital status</th>\n",
       "      <th>Level of Highest Educational Attainment</th>\n",
       "    </tr>\n",
       "  </thead>\n",
       "  <tbody>\n",
       "    <tr>\n",
       "      <th>0</th>\n",
       "      <td>0</td>\n",
       "      <td>Persons living in improvised dwellings, tents,...</td>\n",
       "      <td>NaN</td>\n",
       "      <td>Never married</td>\n",
       "      <td>NaN</td>\n",
       "    </tr>\n",
       "    <tr>\n",
       "      <th>1</th>\n",
       "      <td>1</td>\n",
       "      <td>Persons living in improvised dwellings, tents,...</td>\n",
       "      <td>NaN</td>\n",
       "      <td>Never married</td>\n",
       "      <td>NaN</td>\n",
       "    </tr>\n",
       "    <tr>\n",
       "      <th>2</th>\n",
       "      <td>2</td>\n",
       "      <td>Persons living in improvised dwellings, tents,...</td>\n",
       "      <td>NaN</td>\n",
       "      <td>Never married</td>\n",
       "      <td>Bachelor Degree or above</td>\n",
       "    </tr>\n",
       "    <tr>\n",
       "      <th>3</th>\n",
       "      <td>3</td>\n",
       "      <td>Persons living in improvised dwellings, tents,...</td>\n",
       "      <td>NaN</td>\n",
       "      <td>Married</td>\n",
       "      <td>NaN</td>\n",
       "    </tr>\n",
       "    <tr>\n",
       "      <th>4</th>\n",
       "      <td>4</td>\n",
       "      <td>Persons living in improvised dwellings, tents,...</td>\n",
       "      <td>NaN</td>\n",
       "      <td>Never married</td>\n",
       "      <td>Below Year 10</td>\n",
       "    </tr>\n",
       "  </tbody>\n",
       "</table>\n",
       "</div>"
      ],
      "text/plain": [
       "   Unnamed: 0                         Homeless operational group  \\\n",
       "0           0  Persons living in improvised dwellings, tents,...   \n",
       "1           1  Persons living in improvised dwellings, tents,...   \n",
       "2           2  Persons living in improvised dwellings, tents,...   \n",
       "3           3  Persons living in improvised dwellings, tents,...   \n",
       "4           4  Persons living in improvised dwellings, tents,...   \n",
       "\n",
       "  Total personal income (weekly) Registered marital status  \\\n",
       "0                            NaN             Never married   \n",
       "1                            NaN             Never married   \n",
       "2                            NaN             Never married   \n",
       "3                            NaN                   Married   \n",
       "4                            NaN             Never married   \n",
       "\n",
       "  Level of Highest Educational Attainment  \n",
       "0                                     NaN  \n",
       "1                                     NaN  \n",
       "2                Bachelor Degree or above  \n",
       "3                                     NaN  \n",
       "4                           Below Year 10  "
      ]
     },
     "execution_count": 8,
     "metadata": {},
     "output_type": "execute_result"
    }
   ],
   "source": [
    "df = pd.read_csv('homeless_entries.csv')\n",
    "df.head()"
   ]
  },
  {
   "cell_type": "code",
   "execution_count": 9,
   "metadata": {},
   "outputs": [
    {
     "data": {
      "text/plain": [
       "Unnamed: 0                                     0\n",
       "Homeless operational group                     0\n",
       "Total personal income (weekly)             50619\n",
       "Registered marital status                      0\n",
       "Level of Highest Educational Attainment    24744\n",
       "dtype: int64"
      ]
     },
     "execution_count": 9,
     "metadata": {},
     "output_type": "execute_result"
    }
   ],
   "source": [
    "df.isna().sum()"
   ]
  },
  {
   "cell_type": "code",
   "execution_count": null,
   "metadata": {},
   "outputs": [],
   "source": []
  },
  {
   "cell_type": "code",
   "execution_count": 7,
   "metadata": {},
   "outputs": [
    {
     "data": {
      "text/plain": [
       "0.6031961917715063"
      ]
     },
     "execution_count": 7,
     "metadata": {},
     "output_type": "execute_result"
    }
   ],
   "source": [
    "(df[\"Registered marital status\"] == \"Never married\").mean()"
   ]
  },
  {
   "cell_type": "code",
   "execution_count": 111,
   "metadata": {},
   "outputs": [
    {
     "data": {
      "text/plain": [
       "array(['Persons living in improvised dwellings, tents, or sleeping out',\n",
       "       'Persons in supported accommodation for the homeless',\n",
       "       'Persons staying temporarily with other households',\n",
       "       'Persons living in boarding houses',\n",
       "       'Persons in other temporary lodgings',\n",
       "       \"Persons living in 'severely' crowded dwellings\"], dtype=object)"
      ]
     },
     "execution_count": 111,
     "metadata": {},
     "output_type": "execute_result"
    }
   ],
   "source": [
    "df[\"Homeless operational group\"].unique()"
   ]
  },
  {
   "cell_type": "code",
   "execution_count": 129,
   "metadata": {},
   "outputs": [
    {
     "data": {
      "text/plain": [
       "<matplotlib.axes._subplots.AxesSubplot at 0x7f7879b24910>"
      ]
     },
     "execution_count": 129,
     "metadata": {},
     "output_type": "execute_result"
    },
    {
     "data": {
      "image/png": "[encoded data removed]",
      "text/plain": [
       "<Figure size 432x288 with 1 Axes>"
      ]
     },
     "metadata": {
      "needs_background": "light"
     },
     "output_type": "display_data"
    }
   ],
   "source": [
    "df[\"Total personal income (weekly)\"].value_counts().plot.bar()"
   ]
  },
  {
   "cell_type": "code",
   "execution_count": 134,
   "metadata": {},
   "outputs": [
    {
     "name": "stdout",
     "output_type": "stream",
     "text": [
      "Persons living in improvised dwellings, tents, or sleeping out\n",
      "Proportion Missing 0.6343059008242836\n"
     ]
    },
    {
     "data": {
      "text/plain": [
       "$400–$649        1164\n",
       "Under $400        989\n",
       "$800 and over     399\n",
       "$650–$799         243\n",
       "Name: Total personal income (weekly), dtype: int64"
      ]
     },
     "execution_count": 134,
     "metadata": {},
     "output_type": "execute_result"
    }
   ],
   "source": [
    "unique_values = df[\"Homeless operational group\"].unique()\n",
    "\n",
    "val = unique_values[0]\n",
    "temp = df[df[\"Homeless operational group\"] == val]\n",
    "\n",
    "print(val)\n",
    "print(\"Proportion Missing\", temp[\"Total personal income (weekly)\"].isna().mean())\n",
    "temp[\"Total personal income (weekly)\"].value_counts()"
   ]
  },
  {
   "cell_type": "code",
   "execution_count": 114,
   "metadata": {},
   "outputs": [
    {
     "name": "stdout",
     "output_type": "stream",
     "text": [
      "Persons living in improvised dwellings, tents, or sleeping out\n",
      "4848\n"
     ]
    },
    {
     "data": {
      "text/plain": [
       "$400–$649        1164\n",
       "Under $400        989\n",
       "$800 and over     399\n",
       "$650–$799         243\n",
       "Name: Total personal income (weekly), dtype: int64"
      ]
     },
     "execution_count": 114,
     "metadata": {},
     "output_type": "execute_result"
    }
   ],
   "source": [
    "print(val)\n",
    "print(temp[\"Total personal income (weekly)\"].isna().sum())\n",
    "temp[\"Total personal income (weekly)\"].value_counts()"
   ]
  },
  {
   "cell_type": "code",
   "execution_count": 115,
   "metadata": {},
   "outputs": [
    {
     "data": {
      "text/plain": [
       "Unnamed: 0                                     0\n",
       "Homeless operational group                     0\n",
       "Total personal income (weekly)             50619\n",
       "Registered marital status                      0\n",
       "Level of Highest Educational Attainment    24744\n",
       "dtype: int64"
      ]
     },
     "execution_count": 115,
     "metadata": {},
     "output_type": "execute_result"
    }
   ],
   "source": [
    "df.isna().sum()"
   ]
  },
  {
   "cell_type": "code",
   "execution_count": 11,
   "metadata": {},
   "outputs": [
    {
     "data": {
      "text/plain": [
       "array(['Persons living in improvised dwellings, tents, or sleeping out',\n",
       "       'Persons in supported accommodation for the homeless',\n",
       "       'Persons staying temporarily with other households',\n",
       "       'Persons living in boarding houses',\n",
       "       'Persons in other temporary lodgings',\n",
       "       \"Persons living in 'severely' crowded dwellings\"], dtype=object)"
      ]
     },
     "execution_count": 11,
     "metadata": {},
     "output_type": "execute_result"
    }
   ],
   "source": [
    "df[\"Homeless operational group\"].unique()"
   ]
  },
  {
   "cell_type": "markdown",
   "metadata": {},
   "source": [
    "# Duration of Homelessness"
   ]
  },
  {
   "cell_type": "code",
   "execution_count": 67,
   "metadata": {},
   "outputs": [],
   "source": [
    "import pandas as pd\n",
    "import matplotlib.pyplot as plt\n",
    "import numpy as np"
   ]
  },
  {
   "cell_type": "code",
   "execution_count": 70,
   "metadata": {},
   "outputs": [],
   "source": [
    "data = np.load('Charity_data.npz', allow_pickle=True)['data']\n",
    "df = pd.DataFrame(data)\n",
    "\n",
    "cleaned_df = df.copy()\n",
    "cleaned_df.iloc[:, 0] = cleaned_df.iloc[:, 0].fillna(\"Homeless\")\n",
    "cleaned_df = cleaned_df.fillna(method=\"ffill\", axis=1)"
   ]
  },
  {
   "cell_type": "code",
   "execution_count": 105,
   "metadata": {},
   "outputs": [
    {
     "data": {
      "text/html": [
       "<div>\n",
       "<style scoped>\n",
       "    .dataframe tbody tr th:only-of-type {\n",
       "        vertical-align: middle;\n",
       "    }\n",
       "\n",
       "    .dataframe tbody tr th {\n",
       "        vertical-align: top;\n",
       "    }\n",
       "\n",
       "    .dataframe thead th {\n",
       "        text-align: right;\n",
       "    }\n",
       "</style>\n",
       "<table border=\"1\" class=\"dataframe\">\n",
       "  <thead>\n",
       "    <tr style=\"text-align: right;\">\n",
       "      <th></th>\n",
       "      <th>0</th>\n",
       "      <th>1</th>\n",
       "      <th>2</th>\n",
       "      <th>3</th>\n",
       "      <th>4</th>\n",
       "      <th>5</th>\n",
       "      <th>6</th>\n",
       "      <th>7</th>\n",
       "      <th>8</th>\n",
       "      <th>9</th>\n",
       "      <th>...</th>\n",
       "      <th>14</th>\n",
       "      <th>15</th>\n",
       "      <th>16</th>\n",
       "      <th>17</th>\n",
       "      <th>18</th>\n",
       "      <th>19</th>\n",
       "      <th>20</th>\n",
       "      <th>21</th>\n",
       "      <th>22</th>\n",
       "      <th>23</th>\n",
       "    </tr>\n",
       "  </thead>\n",
       "  <tbody>\n",
       "    <tr>\n",
       "      <th>11</th>\n",
       "      <td>Homeless</td>\n",
       "      <td>Homeless</td>\n",
       "      <td>Homeless</td>\n",
       "      <td>Homeless</td>\n",
       "      <td>Homeless</td>\n",
       "      <td>Homeless</td>\n",
       "      <td>Homeless</td>\n",
       "      <td>Homeless</td>\n",
       "      <td>Homeless</td>\n",
       "      <td>Homeless</td>\n",
       "      <td>...</td>\n",
       "      <td>Homeless</td>\n",
       "      <td>Homeless</td>\n",
       "      <td>Homeless</td>\n",
       "      <td>Homeless</td>\n",
       "      <td>Homeless</td>\n",
       "      <td>Homeless</td>\n",
       "      <td>Homeless</td>\n",
       "      <td>Homeless</td>\n",
       "      <td>Homeless</td>\n",
       "      <td>Homeless</td>\n",
       "    </tr>\n",
       "    <tr>\n",
       "      <th>12</th>\n",
       "      <td>Homeless</td>\n",
       "      <td>Homeless</td>\n",
       "      <td>Homeless</td>\n",
       "      <td>Homeless</td>\n",
       "      <td>Homeless</td>\n",
       "      <td>Homeless</td>\n",
       "      <td>Homeless</td>\n",
       "      <td>Homeless</td>\n",
       "      <td>Homeless</td>\n",
       "      <td>Homeless</td>\n",
       "      <td>...</td>\n",
       "      <td>Homeless</td>\n",
       "      <td>Homeless</td>\n",
       "      <td>Homeless</td>\n",
       "      <td>Homeless</td>\n",
       "      <td>Homeless</td>\n",
       "      <td>Homeless</td>\n",
       "      <td>Homeless</td>\n",
       "      <td>Homeless</td>\n",
       "      <td>Homeless</td>\n",
       "      <td>Homeless</td>\n",
       "    </tr>\n",
       "    <tr>\n",
       "      <th>34</th>\n",
       "      <td>Homeless</td>\n",
       "      <td>Homeless</td>\n",
       "      <td>Homeless</td>\n",
       "      <td>Homeless</td>\n",
       "      <td>Homeless</td>\n",
       "      <td>Homeless</td>\n",
       "      <td>Homeless</td>\n",
       "      <td>Homeless</td>\n",
       "      <td>Homeless</td>\n",
       "      <td>Homeless</td>\n",
       "      <td>...</td>\n",
       "      <td>Homeless</td>\n",
       "      <td>Homeless</td>\n",
       "      <td>Homeless</td>\n",
       "      <td>Homeless</td>\n",
       "      <td>Homeless</td>\n",
       "      <td>Homeless</td>\n",
       "      <td>Homeless</td>\n",
       "      <td>Homeless</td>\n",
       "      <td>Homeless</td>\n",
       "      <td>Homeless</td>\n",
       "    </tr>\n",
       "    <tr>\n",
       "      <th>36</th>\n",
       "      <td>Homeless</td>\n",
       "      <td>Homeless</td>\n",
       "      <td>Homeless</td>\n",
       "      <td>Homeless</td>\n",
       "      <td>Homeless</td>\n",
       "      <td>Homeless</td>\n",
       "      <td>Homeless</td>\n",
       "      <td>Homeless</td>\n",
       "      <td>Homeless</td>\n",
       "      <td>Homeless</td>\n",
       "      <td>...</td>\n",
       "      <td>Homeless</td>\n",
       "      <td>Homeless</td>\n",
       "      <td>Homeless</td>\n",
       "      <td>Not homeless</td>\n",
       "      <td>Homeless</td>\n",
       "      <td>Homeless</td>\n",
       "      <td>Homeless</td>\n",
       "      <td>Homeless</td>\n",
       "      <td>Homeless</td>\n",
       "      <td>Homeless</td>\n",
       "    </tr>\n",
       "    <tr>\n",
       "      <th>38</th>\n",
       "      <td>Homeless</td>\n",
       "      <td>Homeless</td>\n",
       "      <td>Homeless</td>\n",
       "      <td>Homeless</td>\n",
       "      <td>Homeless</td>\n",
       "      <td>Homeless</td>\n",
       "      <td>Homeless</td>\n",
       "      <td>Homeless</td>\n",
       "      <td>Homeless</td>\n",
       "      <td>Homeless</td>\n",
       "      <td>...</td>\n",
       "      <td>Homeless</td>\n",
       "      <td>Homeless</td>\n",
       "      <td>Homeless</td>\n",
       "      <td>Not homeless</td>\n",
       "      <td>Not homeless</td>\n",
       "      <td>Homeless</td>\n",
       "      <td>Homeless</td>\n",
       "      <td>Homeless</td>\n",
       "      <td>Homeless</td>\n",
       "      <td>Homeless</td>\n",
       "    </tr>\n",
       "    <tr>\n",
       "      <th>...</th>\n",
       "      <td>...</td>\n",
       "      <td>...</td>\n",
       "      <td>...</td>\n",
       "      <td>...</td>\n",
       "      <td>...</td>\n",
       "      <td>...</td>\n",
       "      <td>...</td>\n",
       "      <td>...</td>\n",
       "      <td>...</td>\n",
       "      <td>...</td>\n",
       "      <td>...</td>\n",
       "      <td>...</td>\n",
       "      <td>...</td>\n",
       "      <td>...</td>\n",
       "      <td>...</td>\n",
       "      <td>...</td>\n",
       "      <td>...</td>\n",
       "      <td>...</td>\n",
       "      <td>...</td>\n",
       "      <td>...</td>\n",
       "      <td>...</td>\n",
       "    </tr>\n",
       "    <tr>\n",
       "      <th>973</th>\n",
       "      <td>Homeless</td>\n",
       "      <td>Homeless</td>\n",
       "      <td>Homeless</td>\n",
       "      <td>Homeless</td>\n",
       "      <td>Homeless</td>\n",
       "      <td>Homeless</td>\n",
       "      <td>Homeless</td>\n",
       "      <td>Homeless</td>\n",
       "      <td>Not homeless</td>\n",
       "      <td>Not homeless</td>\n",
       "      <td>...</td>\n",
       "      <td>Homeless</td>\n",
       "      <td>Homeless</td>\n",
       "      <td>Homeless</td>\n",
       "      <td>Homeless</td>\n",
       "      <td>Homeless</td>\n",
       "      <td>Homeless</td>\n",
       "      <td>Homeless</td>\n",
       "      <td>Homeless</td>\n",
       "      <td>Homeless</td>\n",
       "      <td>Homeless</td>\n",
       "    </tr>\n",
       "    <tr>\n",
       "      <th>976</th>\n",
       "      <td>Homeless</td>\n",
       "      <td>Homeless</td>\n",
       "      <td>Homeless</td>\n",
       "      <td>Homeless</td>\n",
       "      <td>Homeless</td>\n",
       "      <td>Homeless</td>\n",
       "      <td>Homeless</td>\n",
       "      <td>Homeless</td>\n",
       "      <td>Homeless</td>\n",
       "      <td>Homeless</td>\n",
       "      <td>...</td>\n",
       "      <td>Homeless</td>\n",
       "      <td>Homeless</td>\n",
       "      <td>Homeless</td>\n",
       "      <td>Homeless</td>\n",
       "      <td>Homeless</td>\n",
       "      <td>Homeless</td>\n",
       "      <td>Homeless</td>\n",
       "      <td>Homeless</td>\n",
       "      <td>Homeless</td>\n",
       "      <td>Homeless</td>\n",
       "    </tr>\n",
       "    <tr>\n",
       "      <th>981</th>\n",
       "      <td>Homeless</td>\n",
       "      <td>Homeless</td>\n",
       "      <td>Not homeless</td>\n",
       "      <td>Homeless</td>\n",
       "      <td>Homeless</td>\n",
       "      <td>Homeless</td>\n",
       "      <td>Homeless</td>\n",
       "      <td>Homeless</td>\n",
       "      <td>Homeless</td>\n",
       "      <td>Homeless</td>\n",
       "      <td>...</td>\n",
       "      <td>Homeless</td>\n",
       "      <td>Homeless</td>\n",
       "      <td>Homeless</td>\n",
       "      <td>Homeless</td>\n",
       "      <td>Homeless</td>\n",
       "      <td>Homeless</td>\n",
       "      <td>Homeless</td>\n",
       "      <td>Homeless</td>\n",
       "      <td>Homeless</td>\n",
       "      <td>Homeless</td>\n",
       "    </tr>\n",
       "    <tr>\n",
       "      <th>989</th>\n",
       "      <td>Homeless</td>\n",
       "      <td>Homeless</td>\n",
       "      <td>Homeless</td>\n",
       "      <td>Homeless</td>\n",
       "      <td>Homeless</td>\n",
       "      <td>Homeless</td>\n",
       "      <td>Homeless</td>\n",
       "      <td>Homeless</td>\n",
       "      <td>Homeless</td>\n",
       "      <td>Homeless</td>\n",
       "      <td>...</td>\n",
       "      <td>Homeless</td>\n",
       "      <td>Homeless</td>\n",
       "      <td>Homeless</td>\n",
       "      <td>Homeless</td>\n",
       "      <td>Homeless</td>\n",
       "      <td>Homeless</td>\n",
       "      <td>Homeless</td>\n",
       "      <td>Homeless</td>\n",
       "      <td>Homeless</td>\n",
       "      <td>Homeless</td>\n",
       "    </tr>\n",
       "    <tr>\n",
       "      <th>994</th>\n",
       "      <td>Homeless</td>\n",
       "      <td>Homeless</td>\n",
       "      <td>Homeless</td>\n",
       "      <td>Homeless</td>\n",
       "      <td>Homeless</td>\n",
       "      <td>Homeless</td>\n",
       "      <td>Homeless</td>\n",
       "      <td>Homeless</td>\n",
       "      <td>Homeless</td>\n",
       "      <td>Homeless</td>\n",
       "      <td>...</td>\n",
       "      <td>Homeless</td>\n",
       "      <td>Homeless</td>\n",
       "      <td>Homeless</td>\n",
       "      <td>Homeless</td>\n",
       "      <td>Homeless</td>\n",
       "      <td>Homeless</td>\n",
       "      <td>Homeless</td>\n",
       "      <td>Homeless</td>\n",
       "      <td>Homeless</td>\n",
       "      <td>Homeless</td>\n",
       "    </tr>\n",
       "  </tbody>\n",
       "</table>\n",
       "<p>176 rows × 24 columns</p>\n",
       "</div>"
      ],
      "text/plain": [
       "           0         1             2         3         4         5         6   \\\n",
       "11   Homeless  Homeless      Homeless  Homeless  Homeless  Homeless  Homeless   \n",
       "12   Homeless  Homeless      Homeless  Homeless  Homeless  Homeless  Homeless   \n",
       "34   Homeless  Homeless      Homeless  Homeless  Homeless  Homeless  Homeless   \n",
       "36   Homeless  Homeless      Homeless  Homeless  Homeless  Homeless  Homeless   \n",
       "38   Homeless  Homeless      Homeless  Homeless  Homeless  Homeless  Homeless   \n",
       "..        ...       ...           ...       ...       ...       ...       ...   \n",
       "973  Homeless  Homeless      Homeless  Homeless  Homeless  Homeless  Homeless   \n",
       "976  Homeless  Homeless      Homeless  Homeless  Homeless  Homeless  Homeless   \n",
       "981  Homeless  Homeless  Not homeless  Homeless  Homeless  Homeless  Homeless   \n",
       "989  Homeless  Homeless      Homeless  Homeless  Homeless  Homeless  Homeless   \n",
       "994  Homeless  Homeless      Homeless  Homeless  Homeless  Homeless  Homeless   \n",
       "\n",
       "           7             8             9   ...        14        15        16  \\\n",
       "11   Homeless      Homeless      Homeless  ...  Homeless  Homeless  Homeless   \n",
       "12   Homeless      Homeless      Homeless  ...  Homeless  Homeless  Homeless   \n",
       "34   Homeless      Homeless      Homeless  ...  Homeless  Homeless  Homeless   \n",
       "36   Homeless      Homeless      Homeless  ...  Homeless  Homeless  Homeless   \n",
       "38   Homeless      Homeless      Homeless  ...  Homeless  Homeless  Homeless   \n",
       "..        ...           ...           ...  ...       ...       ...       ...   \n",
       "973  Homeless  Not homeless  Not homeless  ...  Homeless  Homeless  Homeless   \n",
       "976  Homeless      Homeless      Homeless  ...  Homeless  Homeless  Homeless   \n",
       "981  Homeless      Homeless      Homeless  ...  Homeless  Homeless  Homeless   \n",
       "989  Homeless      Homeless      Homeless  ...  Homeless  Homeless  Homeless   \n",
       "994  Homeless      Homeless      Homeless  ...  Homeless  Homeless  Homeless   \n",
       "\n",
       "               17            18        19        20        21        22  \\\n",
       "11       Homeless      Homeless  Homeless  Homeless  Homeless  Homeless   \n",
       "12       Homeless      Homeless  Homeless  Homeless  Homeless  Homeless   \n",
       "34       Homeless      Homeless  Homeless  Homeless  Homeless  Homeless   \n",
       "36   Not homeless      Homeless  Homeless  Homeless  Homeless  Homeless   \n",
       "38   Not homeless  Not homeless  Homeless  Homeless  Homeless  Homeless   \n",
       "..            ...           ...       ...       ...       ...       ...   \n",
       "973      Homeless      Homeless  Homeless  Homeless  Homeless  Homeless   \n",
       "976      Homeless      Homeless  Homeless  Homeless  Homeless  Homeless   \n",
       "981      Homeless      Homeless  Homeless  Homeless  Homeless  Homeless   \n",
       "989      Homeless      Homeless  Homeless  Homeless  Homeless  Homeless   \n",
       "994      Homeless      Homeless  Homeless  Homeless  Homeless  Homeless   \n",
       "\n",
       "           23  \n",
       "11   Homeless  \n",
       "12   Homeless  \n",
       "34   Homeless  \n",
       "36   Homeless  \n",
       "38   Homeless  \n",
       "..        ...  \n",
       "973  Homeless  \n",
       "976  Homeless  \n",
       "981  Homeless  \n",
       "989  Homeless  \n",
       "994  Homeless  \n",
       "\n",
       "[176 rows x 24 columns]"
      ]
     },
     "execution_count": 105,
     "metadata": {},
     "output_type": "execute_result"
    }
   ],
   "source": [
    "cleaned_df[cleaned_df.iloc[:, -1] == \"Homeless\"]"
   ]
  },
  {
   "cell_type": "code",
   "execution_count": 106,
   "metadata": {},
   "outputs": [
    {
     "data": {
      "text/plain": [
       "0         Homeless\n",
       "1         Homeless\n",
       "2         Homeless\n",
       "3         Homeless\n",
       "4         Homeless\n",
       "5         Homeless\n",
       "6         Homeless\n",
       "7         Homeless\n",
       "8         Homeless\n",
       "9         Homeless\n",
       "10    Not homeless\n",
       "11    Not homeless\n",
       "12        Homeless\n",
       "13        Homeless\n",
       "14        Homeless\n",
       "15        Homeless\n",
       "16        Homeless\n",
       "17        Homeless\n",
       "18        Homeless\n",
       "19        Homeless\n",
       "20        Homeless\n",
       "21        Homeless\n",
       "22        Homeless\n",
       "23        Homeless\n",
       "Name: 11, dtype: object"
      ]
     },
     "execution_count": 106,
     "metadata": {},
     "output_type": "execute_result"
    }
   ],
   "source": [
    "row = cleaned_df.iloc[11, :]\n",
    "row"
   ]
  },
  {
   "cell_type": "code",
   "execution_count": 107,
   "metadata": {},
   "outputs": [],
   "source": [
    "homelessness_durations = []\n",
    "\n",
    "count = 0\n",
    "for month in row:\n",
    "    if month == 'Homeless':\n",
    "        count += 1\n",
    "    elif count > 0:\n",
    "        homelessness_durations.append(count)\n",
    "        count = 0\n",
    "\n",
    "if count > 0:\n",
    "    homelessness_durations.append(count)"
   ]
  },
  {
   "cell_type": "code",
   "execution_count": 108,
   "metadata": {},
   "outputs": [
    {
     "data": {
      "text/plain": [
       "[10, 12]"
      ]
     },
     "execution_count": 108,
     "metadata": {},
     "output_type": "execute_result"
    }
   ],
   "source": [
    "homelessness_durations"
   ]
  },
  {
   "cell_type": "code",
   "execution_count": null,
   "metadata": {},
   "outputs": [],
   "source": []
  }
 ],
 "metadata": {
  "kernelspec": {
   "display_name": "Python 3",
   "language": "python",
   "name": "python3"
  },
  "language_info": {
   "codemirror_mode": {
    "name": "ipython",
    "version": 3
   },
   "file_extension": ".py",
   "mimetype": "text/x-python",
   "name": "python",
   "nbconvert_exporter": "python",
   "pygments_lexer": "ipython3",
   "version": "3.7.6"
  }
 },
 "nbformat": 4,
 "nbformat_minor": 4
}
