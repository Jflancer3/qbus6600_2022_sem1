{
 "cells": [
  {
   "cell_type": "code",
   "execution_count": null,
   "metadata": {},
   "outputs": [],
   "source": [
    "import pandas as pd\n",
    "import numpy as np\n",
    "\n",
    "from sklearn.model_selection import train_test_split\n",
    "from sklearn.ensemble import RandomForestClassifier"
   ]
  },
  {
   "cell_type": "code",
   "execution_count": null,
   "metadata": {},
   "outputs": [],
   "source": [
    "import matplotlib.pyplot as plt\n",
    "import seaborn as sns\n",
    "\n",
    "import matplotlib\n",
    "import folium\n",
    "import branca"
   ]
  },
  {
   "cell_type": "code",
   "execution_count": null,
   "metadata": {},
   "outputs": [],
   "source": [
    "perth = pd.read_csv('PerthHousing.csv', parse_dates=['date_sold'], infer_datetime_format=True)\n",
    "\n",
    "train_indices, test_indices = train_test_split(np.array(perth.index), test_size=0.2, random_state=0)\n",
    "\n",
    "train = perth.loc[train_indices].copy()\n",
    "test = perth.loc[test_indices].copy()\n",
    "\n",
    "train[\"log_price\"] = np.log(train[\"price\"])"
   ]
  },
  {
   "cell_type": "code",
   "execution_count": null,
   "metadata": {},
   "outputs": [],
   "source": [
    "sample_train = train.iloc[:10_000].copy()"
   ]
  },
  {
   "cell_type": "code",
   "execution_count": null,
   "metadata": {},
   "outputs": [],
   "source": [
    "def get_quantile(val, quantiles):\n",
    "    for i, quantile_val in enumerate(quantiles, 1):\n",
    "        if val < quantile_val:\n",
    "            return i\n",
    "    return len(quantiles)"
   ]
  },
  {
   "cell_type": "code",
   "execution_count": null,
   "metadata": {},
   "outputs": [],
   "source": [
    "values = train[\"log_price\"]"
   ]
  },
  {
   "cell_type": "code",
   "execution_count": null,
   "metadata": {},
   "outputs": [],
   "source": [
    "x_train = train.loc[:, ['longitude', 'latitude']]\n",
    "\n",
    "scores = []\n",
    "for num_quantiles in range(2, 20):\n",
    "    quantiles = np.quantile(values, [i / num_quantiles for i in range(1, num_quantiles + 1)])\n",
    "    \n",
    "    model = RandomForestClassifier(max_leaf_nodes=30)\n",
    "    \n",
    "    y_train = train[\"log_price\"].apply(lambda x: get_quantile(x, quantiles))\n",
    "    model.fit(x_train, y_train)\n",
    "    \n",
    "    scores.append(model.score(x_train, y_train))\n",
    "    print(\"Finished\", num_quantiles)"
   ]
  },
  {
   "cell_type": "code",
   "execution_count": null,
   "metadata": {},
   "outputs": [],
   "source": [
    "plt.plot(np.arange(2, 20), scores, \"--o\")"
   ]
  },
  {
   "cell_type": "code",
   "execution_count": null,
   "metadata": {
    "scrolled": true
   },
   "outputs": [],
   "source": [
    "num_quantiles = 7\n",
    "quantiles = np.quantile(train[\"log_price\"], [i / num_quantiles for i in range(1, num_quantiles + 1)])\n",
    "    \n",
    "model = RandomForestClassifier(max_leaf_nodes=30)\n",
    "\n",
    "y_train = train[\"log_price\"].apply(lambda x: get_quantile(x, quantiles))\n",
    "model.fit(x_train, y_train)"
   ]
  },
  {
   "cell_type": "code",
   "execution_count": null,
   "metadata": {
    "scrolled": true
   },
   "outputs": [],
   "source": [
    "predicted_quantiles = model.predict(sample_train.loc[:, [\"longitude\", \"latitude\"]])"
   ]
  },
  {
   "cell_type": "code",
   "execution_count": null,
   "metadata": {},
   "outputs": [],
   "source": [
    "price = predicted_quantiles\n",
    "colormap = branca.colormap.linear.YlOrRd_09.scale(0, max(price))\n",
    "\n",
    "folium_map = folium.Map(location=(-31.96, 115.87), zoom_start=9)\n",
    "\n",
    "for i in range(len(sample_train)):\n",
    "    values = sample_train.iloc[i, :]\n",
    "    lat = values[\"latitude\"]\n",
    "    lon = values[\"longitude\"]\n",
    "    price = predicted_quantiles[i]\n",
    "\n",
    "    color = colormap(price)\n",
    "    folium.CircleMarker([lat, lon], radius=0.01, color=color,\n",
    "                        popup=price,\n",
    "                        fill=True, fill_opacity=0.7).add_to(folium_map)\n",
    "    \n",
    "folium_map.add_child(colormap)\n",
    "folium_map"
   ]
  },
  {
   "cell_type": "code",
   "execution_count": null,
   "metadata": {},
   "outputs": [],
   "source": [
    "df = pd.DataFrame()\n",
    "\n",
    "df[\"price\"] = train[\"price\"].copy()\n",
    "df[\"log_price\"] = np.log(train[\"price\"])\n",
    "df[\"labels\"] = model.predict(train.loc[:, [\"longitude\", \"latitude\"]])\n",
    "df[\"bedrooms\"] = train[\"bedrooms\"].copy()"
   ]
  },
  {
   "cell_type": "code",
   "execution_count": null,
   "metadata": {},
   "outputs": [],
   "source": [
    "df.boxplot(\"price\", \"labels\")"
   ]
  },
  {
   "cell_type": "code",
   "execution_count": null,
   "metadata": {},
   "outputs": [],
   "source": [
    "sns.lmplot(y='log_price', x=\"bedrooms\", data=df, hue='labels')"
   ]
  },
  {
   "cell_type": "code",
   "execution_count": null,
   "metadata": {},
   "outputs": [],
   "source": []
  },
  {
   "cell_type": "code",
   "execution_count": null,
   "metadata": {},
   "outputs": [],
   "source": [
    "df = pd.DataFrame()\n",
    "\n",
    "df[\"log_price\"] = train[\"log_price\"]\n",
    "df[\"longitude\"] = train[\"longitude\"].copy()\n",
    "df[\"latitude\"] = train[\"latitude\"].copy()"
   ]
  },
  {
   "cell_type": "code",
   "execution_count": null,
   "metadata": {},
   "outputs": [],
   "source": [
    "price = df[\"log_price\"]\n",
    "colormap = branca.colormap.linear.YlOrRd_09.scale(min(price), max(price))\n",
    "\n",
    "folium_map = folium.Map(location=(-31.96, 115.87), zoom_start=9)\n",
    "\n",
    "for i in range(10_000):\n",
    "    values = df.iloc[i, :]\n",
    "    lat = values[\"latitude\"]\n",
    "    lon = values[\"longitude\"]\n",
    "    price = values[\"log_price\"]\n",
    "\n",
    "    color = colormap(price)\n",
    "    folium.CircleMarker([lat, lon], radius=0.01, color=color,\n",
    "                        fill=True, fill_opacity=0.7).add_to(folium_map)\n",
    "    \n",
    "folium_map.add_child(colormap)\n",
    "folium_map"
   ]
  },
  {
   "cell_type": "code",
   "execution_count": null,
   "metadata": {},
   "outputs": [],
   "source": []
  }
 ],
 "metadata": {
  "kernelspec": {
   "display_name": "Python 3",
   "language": "python",
   "name": "python3"
  },
  "language_info": {
   "codemirror_mode": {
    "name": "ipython",
    "version": 3
   },
   "file_extension": ".py",
   "mimetype": "text/x-python",
   "name": "python",
   "nbconvert_exporter": "python",
   "pygments_lexer": "ipython3",
   "version": "3.7.6"
  }
 },
 "nbformat": 4,
 "nbformat_minor": 4
}
