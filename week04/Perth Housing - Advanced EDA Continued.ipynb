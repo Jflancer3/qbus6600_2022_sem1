{
 "cells": [
  {
   "cell_type": "code",
   "execution_count": 1,
   "metadata": {},
   "outputs": [],
   "source": [
    "import pandas as pd\n",
    "import numpy as np\n",
    "\n",
    "from sklearn.model_selection import train_test_split\n",
    "from sklearn.ensemble import RandomForestClassifier"
   ]
  },
  {
   "cell_type": "code",
   "execution_count": 2,
   "metadata": {},
   "outputs": [],
   "source": [
    "import matplotlib.pyplot as plt\n",
    "import seaborn as sns\n",
    "\n",
    "import matplotlib\n",
    "import folium\n",
    "import branca"
   ]
  },
  {
   "cell_type": "code",
   "execution_count": 3,
   "metadata": {},
   "outputs": [],
   "source": [
    "perth = pd.read_csv('PerthHousing.csv', parse_dates=['date_sold'], infer_datetime_format=True)\n",
    "\n",
    "train_indices, test_indices = train_test_split(np.array(perth.index), test_size=0.2, random_state=0)\n",
    "\n",
    "train = perth.loc[train_indices].copy()\n",
    "test = perth.loc[test_indices].copy()\n",
    "\n",
    "train[\"log_price\"] = np.log(train[\"price\"])"
   ]
  },
  {
   "cell_type": "code",
   "execution_count": 4,
   "metadata": {},
   "outputs": [],
   "source": [
    "sample_train = train.iloc[:10_000].copy()"
   ]
  },
  {
   "cell_type": "code",
   "execution_count": 5,
   "metadata": {},
   "outputs": [],
   "source": [
    "q1 = train['log_price'].quantile(0.3)\n",
    "q2 = train['log_price'].quantile(0.7)\n",
    "\n",
    "def quantile_map(x):\n",
    "    if x < q1: \n",
    "        return 1\n",
    "    elif q1 <= x < q2:\n",
    "        return 2\n",
    "    return 3\n",
    "\n",
    "train['price_quantile'] = train['log_price'].map(quantile_map)"
   ]
  },
  {
   "cell_type": "code",
   "execution_count": 7,
   "metadata": {},
   "outputs": [],
   "source": [
    "x_train = train.loc[:, ['longitude', 'latitude']]\n",
    "y_train = train['price_quantile']"
   ]
  },
  {
   "cell_type": "code",
   "execution_count": 18,
   "metadata": {
    "deletable": false,
    "editable": false,
    "run_control": {
     "frozen": true
    }
   },
   "outputs": [
    {
     "name": "stdout",
     "output_type": "stream",
     "text": [
      "Finished 5\n",
      "Finished 10\n",
      "Finished 15\n",
      "Finished 20\n",
      "Finished 25\n",
      "Finished 30\n",
      "Finished 35\n",
      "Finished 40\n",
      "Finished 45\n"
     ]
    }
   ],
   "source": [
    "scores = []  # List to save accuracy of models\n",
    "for max_leaf_nodes in range(2, 50):\n",
    "    model = RandomForestClassifier(max_leaf_nodes=max_leaf_nodes, random_state=42)\n",
    "    model.fit(x_train, y_train)\n",
    "    \n",
    "    # Compute Accuracy of Model and Save to list\n",
    "    # You should also compute the accuracy on the validation data (not the test data)\n",
    "    # But I'm not too bothered\n",
    "    scores.append(model.score(x_train, y_train))\n",
    "    \n",
    "    if max_leaf_nodes % 5 == 0:\n",
    "        print(\"Finished\", max_leaf_nodes)"
   ]
  },
  {
   "cell_type": "code",
   "execution_count": 19,
   "metadata": {
    "deletable": false,
    "editable": false,
    "run_control": {
     "frozen": true
    }
   },
   "outputs": [
    {
     "data": {
      "image/png": "[encoded data removed]",
      "text/plain": [
       "<Figure size 1080x360 with 1 Axes>"
      ]
     },
     "metadata": {
      "needs_background": "light"
     },
     "output_type": "display_data"
    }
   ],
   "source": [
    "plt.figure(figsize=(15, 5))\n",
    "\n",
    "plt.plot(np.arange(2, 50), scores, \"--o\")\n",
    "\n",
    "plt.xticks(np.arange(2, 50, 2), np.arange(2, 50, 2));\n",
    "\n",
    "plt.ylabel(\"Accuracy\")\n",
    "plt.xlabel(\"Number of Leaf Nodes\");"
   ]
  },
  {
   "cell_type": "code",
   "execution_count": 30,
   "metadata": {
    "scrolled": true
   },
   "outputs": [
    {
     "data": {
      "text/plain": [
       "RandomForestClassifier(max_leaf_nodes=10, random_state=42)"
      ]
     },
     "execution_count": 30,
     "metadata": {},
     "output_type": "execute_result"
    }
   ],
   "source": [
    "model = RandomForestClassifier(max_leaf_nodes=10, random_state=42)\n",
    "model.fit(x_train, y_train)"
   ]
  },
  {
   "cell_type": "code",
   "execution_count": 31,
   "metadata": {
    "scrolled": true
   },
   "outputs": [],
   "source": [
    "predicted_quantiles = model.predict(sample_train.loc[:, [\"longitude\", \"latitude\"]])"
   ]
  },
  {
   "cell_type": "code",
   "execution_count": null,
   "metadata": {},
   "outputs": [],
   "source": [
    "price = predicted_quantiles\n",
    "colormap = branca.colormap.linear.YlOrRd_09.scale(0, max(price))\n",
    "\n",
    "folium_map = folium.Map(location=(-31.96, 115.87), zoom_start=9)\n",
    "\n",
    "for i in range(len(sample_train)):\n",
    "    values = sample_train.iloc[i, :]\n",
    "    lat = values[\"latitude\"]\n",
    "    lon = values[\"longitude\"]\n",
    "    price = predicted_quantiles[i]\n",
    "\n",
    "    color = colormap(price)\n",
    "    folium.CircleMarker([lat, lon], radius=0.01, color=color,\n",
    "                        popup=price,\n",
    "                        fill=True, fill_opacity=0.7).add_to(folium_map)\n",
    "    \n",
    "folium_map.add_child(colormap)\n",
    "folium_map"
   ]
  },
  {
   "cell_type": "code",
   "execution_count": 33,
   "metadata": {},
   "outputs": [],
   "source": [
    "df = pd.DataFrame()\n",
    "\n",
    "df[\"price\"] = train[\"price\"].copy()\n",
    "df[\"log-price\"] = np.log(train[\"price\"]).copy()\n",
    "df[\"log_price\"] = np.log(train[\"price\"])\n",
    "df[\"labels\"] = model.predict(train.loc[:, [\"longitude\", \"latitude\"]])\n",
    "df[\"bedrooms\"] = train[\"bedrooms\"].copy()"
   ]
  },
  {
   "cell_type": "code",
   "execution_count": null,
   "metadata": {},
   "outputs": [],
   "source": [
    "df.boxplot(\"price\", \"labels\")"
   ]
  },
  {
   "cell_type": "code",
   "execution_count": null,
   "metadata": {},
   "outputs": [],
   "source": [
    "sns.lmplot(y='log_price', x=\"bedrooms\", data=df, hue='labels')"
   ]
  },
  {
   "cell_type": "code",
   "execution_count": 36,
   "metadata": {},
   "outputs": [],
   "source": [
    "min_lon = train[\"longitude\"].min()\n",
    "max_lon = train[\"longitude\"].max()\n",
    "\n",
    "min_lat = train[\"latitude\"].min()\n",
    "max_lat = train[\"latitude\"].max()"
   ]
  },
  {
   "cell_type": "code",
   "execution_count": 37,
   "metadata": {},
   "outputs": [],
   "source": [
    "new_locations = []\n",
    "\n",
    "for lon in np.linspace(min_lon, max_lon, 100):\n",
    "    for lat in np.linspace(min_lat, max_lat, 100):\n",
    "        new_locations.append((lon, lat))"
   ]
  },
  {
   "cell_type": "code",
   "execution_count": 38,
   "metadata": {},
   "outputs": [],
   "source": [
    "x_temp = pd.DataFrame(new_locations, columns=[\"longitude\", \"latitude\"])\n",
    "\n",
    "predicted_quantiles = model.predict(x_temp)"
   ]
  },
  {
   "cell_type": "code",
   "execution_count": null,
   "metadata": {},
   "outputs": [],
   "source": [
    "price = predicted_quantiles\n",
    "colormap = branca.colormap.linear.YlOrRd_09.scale(0, max(price))\n",
    "\n",
    "folium_map = folium.Map(location=(-31.96, 115.87), zoom_start=9)\n",
    "\n",
    "for i in range(len(x_temp)):\n",
    "    values = x_temp.iloc[i, :]\n",
    "    lat = values[\"latitude\"]\n",
    "    lon = values[\"longitude\"]\n",
    "    price = predicted_quantiles[i]\n",
    "\n",
    "    color = colormap(price)\n",
    "    folium.CircleMarker([lat, lon], radius=0.01, color=color,\n",
    "                        fill=True, opacity=0.5).add_to(folium_map)\n",
    "    \n",
    "folium_map.add_child(colormap)\n",
    "folium_map"
   ]
  },
  {
   "cell_type": "code",
   "execution_count": null,
   "metadata": {},
   "outputs": [],
   "source": []
  },
  {
   "cell_type": "code",
   "execution_count": null,
   "metadata": {},
   "outputs": [],
   "source": []
  },
  {
   "cell_type": "code",
   "execution_count": null,
   "metadata": {},
   "outputs": [],
   "source": []
  },
  {
   "cell_type": "code",
   "execution_count": null,
   "metadata": {},
   "outputs": [],
   "source": [
    "df = pd.DataFrame()\n",
    "\n",
    "df[\"log_price\"] = train[\"log_price\"]\n",
    "df[\"longitude\"] = train[\"longitude\"].copy()\n",
    "df[\"latitude\"] = train[\"latitude\"].copy()"
   ]
  },
  {
   "cell_type": "code",
   "execution_count": null,
   "metadata": {},
   "outputs": [],
   "source": [
    "price = df[\"log_price\"]\n",
    "colormap = branca.colormap.linear.YlOrRd_09.scale(min(price), max(price))\n",
    "\n",
    "folium_map = folium.Map(location=(-31.96, 115.87), zoom_start=9)\n",
    "\n",
    "for i in range(10_000):\n",
    "    values = df.iloc[i, :]\n",
    "    lat = values[\"latitude\"]\n",
    "    lon = values[\"longitude\"]\n",
    "    price = values[\"log_price\"]\n",
    "\n",
    "    color = colormap(price)\n",
    "    folium.CircleMarker([lat, lon], radius=0.01, color=color,\n",
    "                        fill=True, fill_opacity=0.7).add_to(folium_map)\n",
    "    \n",
    "folium_map.add_child(colormap)\n",
    "folium_map"
   ]
  },
  {
   "cell_type": "code",
   "execution_count": null,
   "metadata": {},
   "outputs": [],
   "source": []
  },
  {
   "cell_type": "code",
   "execution_count": null,
   "metadata": {},
   "outputs": [],
   "source": []
  }
 ],
 "metadata": {
  "kernelspec": {
   "display_name": "Python 3",
   "language": "python",
   "name": "python3"
  },
  "language_info": {
   "codemirror_mode": {
    "name": "ipython",
    "version": 3
   },
   "file_extension": ".py",
   "mimetype": "text/x-python",
   "name": "python",
   "nbconvert_exporter": "python",
   "pygments_lexer": "ipython3",
   "version": "3.7.6"
  }
 },
 "nbformat": 4,
 "nbformat_minor": 4
}
