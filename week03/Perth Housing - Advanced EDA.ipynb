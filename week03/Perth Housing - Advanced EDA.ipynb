{
 "cells": [
  {
   "cell_type": "code",
   "execution_count": null,
   "metadata": {},
   "outputs": [],
   "source": [
    "# !pip install folium\n",
    "# !pip install branca"
   ]
  },
  {
   "cell_type": "code",
   "execution_count": null,
   "metadata": {},
   "outputs": [],
   "source": [
    "import pandas as pd\n",
    "import numpy as np\n",
    "\n",
    "from sklearn.model_selection import train_test_split\n",
    "from sklearn.ensemble import RandomForestClassifier"
   ]
  },
  {
   "cell_type": "code",
   "execution_count": null,
   "metadata": {},
   "outputs": [],
   "source": [
    "import matplotlib.pyplot as plt\n",
    "import seaborn as sns\n",
    "\n",
    "import folium\n",
    "import matplotlib\n",
    "import branca"
   ]
  },
  {
   "cell_type": "code",
   "execution_count": null,
   "metadata": {},
   "outputs": [],
   "source": [
    "perth = pd.read_csv('PerthHousing.csv', parse_dates=['date_sold'], infer_datetime_format=True)\n",
    "\n",
    "train_indices, test_indices = train_test_split(np.array(perth.index), test_size=0.2, random_state=0)\n",
    "\n",
    "train = perth.loc[train_indices].copy()\n",
    "test = perth.loc[test_indices].copy()"
   ]
  },
  {
   "cell_type": "code",
   "execution_count": null,
   "metadata": {},
   "outputs": [],
   "source": [
    "train[\"log_price\"] = np.log(train[\"price\"])"
   ]
  },
  {
   "cell_type": "code",
   "execution_count": null,
   "metadata": {},
   "outputs": [],
   "source": [
    "# We are only going to be using a portion of the training set\n",
    "# Plotting the whole thing takes too much time\n",
    "sample_train = train[:10_000]"
   ]
  },
  {
   "cell_type": "code",
   "execution_count": null,
   "metadata": {},
   "outputs": [],
   "source": [
    "price = sample_train['log_price']\n",
    "colormap = branca.colormap.linear.YlOrRd_09.scale(min(price), max(price))\n",
    "\n",
    "folium_map = folium.Map(location=(-31.96, 115.87), zoom_start=10)\n",
    "\n",
    "for i in range(len(sample_train)):\n",
    "    values = sample_train.iloc[i, :]\n",
    "    lat = values[\"latitude\"]\n",
    "    lon = values[\"longitude\"]\n",
    "    price = values[\"log_price\"]\n",
    "\n",
    "    color = colormap(price)\n",
    "    folium.CircleMarker([lat, lon], radius=0.01, color=color,\n",
    "                        fill=True, fill_opacity=0.7).add_to(folium_map)\n",
    "    \n",
    "folium_map.add_child(colormap)\n",
    "folium_map"
   ]
  },
  {
   "cell_type": "code",
   "execution_count": null,
   "metadata": {},
   "outputs": [],
   "source": [
    "q1 = train['log_price'].quantile(0.3)\n",
    "q2 = train['log_price'].quantile(0.7)\n",
    "\n",
    "def quantile_map(x):\n",
    "    if x < q1: \n",
    "        return 1\n",
    "    elif q1 <= x < q2:\n",
    "        return 2\n",
    "    return 3\n",
    "\n",
    "train['price_quantile'] = train['log_price'].map(quantile_map)"
   ]
  },
  {
   "cell_type": "code",
   "execution_count": null,
   "metadata": {},
   "outputs": [],
   "source": [
    "train['price_quantile'].value_counts() / len(train)"
   ]
  },
  {
   "cell_type": "code",
   "execution_count": null,
   "metadata": {},
   "outputs": [],
   "source": [
    "print(\"Quantile 1 Cutoff:\", np.exp(q1))\n",
    "print(\"Quantile 2 Cutoff:\", np.exp(q2))"
   ]
  },
  {
   "cell_type": "code",
   "execution_count": null,
   "metadata": {},
   "outputs": [],
   "source": [
    "sample_train = train[:10_000]"
   ]
  },
  {
   "cell_type": "code",
   "execution_count": null,
   "metadata": {},
   "outputs": [],
   "source": [
    "price = sample_train['price_quantile']\n",
    "colormap = branca.colormap.linear.YlOrRd_09.scale(0, max(price))\n",
    "\n",
    "folium_map = folium.Map(location=(-31.96, 115.87), zoom_start=10)\n",
    "\n",
    "for i in range(len(sample_train)):\n",
    "    values = sample_train.iloc[i, :]\n",
    "    lat = values[\"latitude\"]\n",
    "    lon = values[\"longitude\"]\n",
    "    price = values[\"price_quantile\"]\n",
    "\n",
    "    color = colormap(price)\n",
    "    folium.CircleMarker([lat, lon], radius=0.01, color=color,\n",
    "                        fill=True, fill_opacity=0.7).add_to(folium_map)\n",
    "    \n",
    "folium_map.add_child(colormap)\n",
    "folium_map"
   ]
  },
  {
   "cell_type": "code",
   "execution_count": null,
   "metadata": {},
   "outputs": [],
   "source": [
    "model = RandomForestClassifier(max_leaf_nodes=30)\n",
    "\n",
    "x_train = train.loc[:, ['longitude', 'latitude']]\n",
    "y_train = train.loc[:, 'price_quantile']\n",
    "model.fit(x_train, y_train)"
   ]
  },
  {
   "cell_type": "code",
   "execution_count": null,
   "metadata": {},
   "outputs": [],
   "source": [
    "predicted_quantiles = model.predict(x_train)"
   ]
  },
  {
   "cell_type": "code",
   "execution_count": null,
   "metadata": {},
   "outputs": [],
   "source": [
    "price = predicted_quantiles\n",
    "colormap = branca.colormap.linear.YlOrRd_09.scale(0, max(price))\n",
    "\n",
    "folium_map = folium.Map(location=(-31.96, 115.87), zoom_start=9)\n",
    "\n",
    "for i in range(len(sample_train)):\n",
    "    values = sample_train.iloc[i, :]\n",
    "    lat = values[\"latitude\"]\n",
    "    lon = values[\"longitude\"]\n",
    "    price = predicted_quantiles[i]\n",
    "\n",
    "    color = colormap(price)\n",
    "    folium.CircleMarker([lat, lon], radius=0.01, color=color,\n",
    "                        fill=True, fill_opacity=0.7).add_to(folium_map)\n",
    "    \n",
    "folium_map.add_child(colormap)\n",
    "folium_map"
   ]
  },
  {
   "cell_type": "code",
   "execution_count": null,
   "metadata": {},
   "outputs": [],
   "source": [
    "x_train[\"log_price\"] = np.log(train[\"price\"])\n",
    "x_train[\"predicted_quantiles\"] = predicted_quantiles"
   ]
  },
  {
   "cell_type": "code",
   "execution_count": null,
   "metadata": {},
   "outputs": [],
   "source": [
    "x_train.boxplot(\"log_price\", \"predicted_quantiles\")"
   ]
  },
  {
   "cell_type": "code",
   "execution_count": null,
   "metadata": {},
   "outputs": [],
   "source": []
  },
  {
   "cell_type": "code",
   "execution_count": null,
   "metadata": {},
   "outputs": [],
   "source": [
    "min_lon = train[\"longitude\"].min()\n",
    "max_lon = train[\"longitude\"].max()\n",
    "\n",
    "min_lat = train[\"latitude\"].min()\n",
    "max_lat = train[\"latitude\"].max()"
   ]
  },
  {
   "cell_type": "code",
   "execution_count": null,
   "metadata": {},
   "outputs": [],
   "source": [
    "new_locations = []\n",
    "\n",
    "for lon in np.linspace(min_lon, max_lon, 100):\n",
    "    for lat in np.linspace(min_lat, max_lat, 100):\n",
    "        new_locations.append((lon, lat))"
   ]
  },
  {
   "cell_type": "code",
   "execution_count": null,
   "metadata": {},
   "outputs": [],
   "source": [
    "x_temp = pd.DataFrame(new_locations, columns=[\"longitude\", \"latitude\"])\n",
    "\n",
    "predicted_quantiles = model.predict(x_temp)"
   ]
  },
  {
   "cell_type": "code",
   "execution_count": null,
   "metadata": {},
   "outputs": [],
   "source": [
    "price = predicted_quantiles\n",
    "colormap = branca.colormap.linear.YlOrRd_09.scale(0, max(price))\n",
    "\n",
    "folium_map = folium.Map(location=(-31.96, 115.87), zoom_start=9)\n",
    "\n",
    "for i in range(len(x_temp)):\n",
    "    values = x_temp.iloc[i, :]\n",
    "    lat = values[\"latitude\"]\n",
    "    lon = values[\"longitude\"]\n",
    "    price = predicted_quantiles[i]\n",
    "\n",
    "    color = colormap(price)\n",
    "    folium.CircleMarker([lat, lon], radius=0.01, color=color,\n",
    "                        fill=True, opacity=0.5).add_to(folium_map)\n",
    "    \n",
    "folium_map.add_child(colormap)\n",
    "folium_map"
   ]
  },
  {
   "cell_type": "code",
   "execution_count": null,
   "metadata": {},
   "outputs": [],
   "source": []
  },
  {
   "cell_type": "code",
   "execution_count": null,
   "metadata": {},
   "outputs": [],
   "source": []
  },
  {
   "cell_type": "code",
   "execution_count": null,
   "metadata": {},
   "outputs": [],
   "source": [
    "train[\"predicted_quantile\"] = model.predict(train.loc[:, ['longitude', 'latitude']])"
   ]
  },
  {
   "cell_type": "code",
   "execution_count": null,
   "metadata": {},
   "outputs": [],
   "source": [
    "train.columns"
   ]
  },
  {
   "cell_type": "code",
   "execution_count": null,
   "metadata": {},
   "outputs": [],
   "source": [
    "sns.lmplot(y='price', x=\"bedrooms\", data=train, hue='predicted_quantile')"
   ]
  },
  {
   "cell_type": "code",
   "execution_count": null,
   "metadata": {},
   "outputs": [],
   "source": []
  }
 ],
 "metadata": {
  "kernelspec": {
   "display_name": "Python 3",
   "language": "python",
   "name": "python3"
  },
  "language_info": {
   "codemirror_mode": {
    "name": "ipython",
    "version": 3
   },
   "file_extension": ".py",
   "mimetype": "text/x-python",
   "name": "python",
   "nbconvert_exporter": "python",
   "pygments_lexer": "ipython3",
   "version": "3.7.6"
  }
 },
 "nbformat": 4,
 "nbformat_minor": 4
}
